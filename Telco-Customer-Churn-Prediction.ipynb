{
 "cells": [
  {
   "cell_type": "markdown",
   "id": "9086c5eb",
   "metadata": {
    "id": "9086c5eb"
   },
   "source": [
    "# Telecom Customer Churn Prediction\n",
    "\n",
    "Churn is the measure of how many customers stop using a product. This can be measured based on actual usage or failure to renew (when the product is sold using a subscription model). Often evaluated for a specific period of time, there can be a monthly, quarterly, or annual churn rate.\n",
    "\n",
    "\n",
    "When new customers begin buying and/or using a product, each new user contributes to a product’s growth rate. Inevitably some of those customers will eventually discontinue their usage or cancel their subscription; either because they switched to a competitor or alternative solution, no longer need to product’s functions, they’re unhappy with their user experience, or they can no longer afford or justify the cost. The customers that stop using/paying are the “churn” for a given period of time.\n",
    "\n",
    "\n",
    "This dataset is available on Kaggle:https://www.kaggle.com/datasets/blastchar/telco-customer-churn\n",
    "\n",
    "\n",
    "Our goal here is\n",
    "* to predict which customer is going to churn with various classification supervised machine learning algorithms\n",
    "* to evaluate which algorithms perform the best, so they can be used for further prediction on the upcoming data."
   ]
  },
  {
   "cell_type": "markdown",
   "id": "98b71466",
   "metadata": {},
   "source": [
    "### Import Libraries"
   ]
  },
  {
   "cell_type": "code",
   "execution_count": 1,
   "id": "281150bc",
   "metadata": {
    "id": "281150bc"
   },
   "outputs": [],
   "source": [
    "import warnings\n",
    "warnings.filterwarnings('ignore')\n",
    "\n",
    "import numpy as np\n",
    "import pandas as pd\n",
    "import seaborn as sns\n",
    "import matplotlib.pyplot as plt\n",
    "%matplotlib inline\n",
    "\n",
    "from imblearn.over_sampling import SMOTE \n",
    "\n",
    "from sklearn import preprocessing\n",
    "from sklearn.impute import SimpleImputer\n",
    "from sklearn.ensemble import RandomForestClassifier\n",
    "from sklearn.model_selection import train_test_split\n",
    "from sklearn.metrics import f1_score, accuracy_score, precision_score, recall_score, roc_auc_score, confusion_matrix"
   ]
  },
  {
   "cell_type": "markdown",
   "id": "27c018ba",
   "metadata": {
    "id": "27c018ba"
   },
   "source": [
    "### Load dataset"
   ]
  },
  {
   "cell_type": "code",
   "execution_count": 2,
   "id": "f28e1136",
   "metadata": {
    "id": "f28e1136",
    "outputId": "035a09b7-c440-4892-ba85-e2ea958dbc1e",
    "scrolled": true
   },
   "outputs": [
    {
     "data": {
      "text/html": [
       "<div>\n",
       "<style scoped>\n",
       "    .dataframe tbody tr th:only-of-type {\n",
       "        vertical-align: middle;\n",
       "    }\n",
       "\n",
       "    .dataframe tbody tr th {\n",
       "        vertical-align: top;\n",
       "    }\n",
       "\n",
       "    .dataframe thead th {\n",
       "        text-align: right;\n",
       "    }\n",
       "</style>\n",
       "<table border=\"1\" class=\"dataframe\">\n",
       "  <thead>\n",
       "    <tr style=\"text-align: right;\">\n",
       "      <th></th>\n",
       "      <th>customerID</th>\n",
       "      <th>gender</th>\n",
       "      <th>SeniorCitizen</th>\n",
       "      <th>Partner</th>\n",
       "      <th>Dependents</th>\n",
       "      <th>tenure</th>\n",
       "      <th>PhoneService</th>\n",
       "      <th>MultipleLines</th>\n",
       "      <th>InternetService</th>\n",
       "      <th>OnlineSecurity</th>\n",
       "      <th>...</th>\n",
       "      <th>DeviceProtection</th>\n",
       "      <th>TechSupport</th>\n",
       "      <th>StreamingTV</th>\n",
       "      <th>StreamingMovies</th>\n",
       "      <th>Contract</th>\n",
       "      <th>PaperlessBilling</th>\n",
       "      <th>PaymentMethod</th>\n",
       "      <th>MonthlyCharges</th>\n",
       "      <th>TotalCharges</th>\n",
       "      <th>Churn</th>\n",
       "    </tr>\n",
       "  </thead>\n",
       "  <tbody>\n",
       "    <tr>\n",
       "      <th>0</th>\n",
       "      <td>7590-VHVEG</td>\n",
       "      <td>Female</td>\n",
       "      <td>0</td>\n",
       "      <td>Yes</td>\n",
       "      <td>No</td>\n",
       "      <td>1</td>\n",
       "      <td>No</td>\n",
       "      <td>No phone service</td>\n",
       "      <td>DSL</td>\n",
       "      <td>No</td>\n",
       "      <td>...</td>\n",
       "      <td>No</td>\n",
       "      <td>No</td>\n",
       "      <td>No</td>\n",
       "      <td>No</td>\n",
       "      <td>Month-to-month</td>\n",
       "      <td>Yes</td>\n",
       "      <td>Electronic check</td>\n",
       "      <td>29.85</td>\n",
       "      <td>29.85</td>\n",
       "      <td>No</td>\n",
       "    </tr>\n",
       "    <tr>\n",
       "      <th>1</th>\n",
       "      <td>5575-GNVDE</td>\n",
       "      <td>Male</td>\n",
       "      <td>0</td>\n",
       "      <td>No</td>\n",
       "      <td>No</td>\n",
       "      <td>34</td>\n",
       "      <td>Yes</td>\n",
       "      <td>No</td>\n",
       "      <td>DSL</td>\n",
       "      <td>Yes</td>\n",
       "      <td>...</td>\n",
       "      <td>Yes</td>\n",
       "      <td>No</td>\n",
       "      <td>No</td>\n",
       "      <td>No</td>\n",
       "      <td>One year</td>\n",
       "      <td>No</td>\n",
       "      <td>Mailed check</td>\n",
       "      <td>56.95</td>\n",
       "      <td>1889.5</td>\n",
       "      <td>No</td>\n",
       "    </tr>\n",
       "    <tr>\n",
       "      <th>2</th>\n",
       "      <td>3668-QPYBK</td>\n",
       "      <td>Male</td>\n",
       "      <td>0</td>\n",
       "      <td>No</td>\n",
       "      <td>No</td>\n",
       "      <td>2</td>\n",
       "      <td>Yes</td>\n",
       "      <td>No</td>\n",
       "      <td>DSL</td>\n",
       "      <td>Yes</td>\n",
       "      <td>...</td>\n",
       "      <td>No</td>\n",
       "      <td>No</td>\n",
       "      <td>No</td>\n",
       "      <td>No</td>\n",
       "      <td>Month-to-month</td>\n",
       "      <td>Yes</td>\n",
       "      <td>Mailed check</td>\n",
       "      <td>53.85</td>\n",
       "      <td>108.15</td>\n",
       "      <td>Yes</td>\n",
       "    </tr>\n",
       "    <tr>\n",
       "      <th>3</th>\n",
       "      <td>7795-CFOCW</td>\n",
       "      <td>Male</td>\n",
       "      <td>0</td>\n",
       "      <td>No</td>\n",
       "      <td>No</td>\n",
       "      <td>45</td>\n",
       "      <td>No</td>\n",
       "      <td>No phone service</td>\n",
       "      <td>DSL</td>\n",
       "      <td>Yes</td>\n",
       "      <td>...</td>\n",
       "      <td>Yes</td>\n",
       "      <td>Yes</td>\n",
       "      <td>No</td>\n",
       "      <td>No</td>\n",
       "      <td>One year</td>\n",
       "      <td>No</td>\n",
       "      <td>Bank transfer (automatic)</td>\n",
       "      <td>42.30</td>\n",
       "      <td>1840.75</td>\n",
       "      <td>No</td>\n",
       "    </tr>\n",
       "    <tr>\n",
       "      <th>4</th>\n",
       "      <td>9237-HQITU</td>\n",
       "      <td>Female</td>\n",
       "      <td>0</td>\n",
       "      <td>No</td>\n",
       "      <td>No</td>\n",
       "      <td>2</td>\n",
       "      <td>Yes</td>\n",
       "      <td>No</td>\n",
       "      <td>Fiber optic</td>\n",
       "      <td>No</td>\n",
       "      <td>...</td>\n",
       "      <td>No</td>\n",
       "      <td>No</td>\n",
       "      <td>No</td>\n",
       "      <td>No</td>\n",
       "      <td>Month-to-month</td>\n",
       "      <td>Yes</td>\n",
       "      <td>Electronic check</td>\n",
       "      <td>70.70</td>\n",
       "      <td>151.65</td>\n",
       "      <td>Yes</td>\n",
       "    </tr>\n",
       "  </tbody>\n",
       "</table>\n",
       "<p>5 rows × 21 columns</p>\n",
       "</div>"
      ],
      "text/plain": [
       "   customerID  gender  SeniorCitizen Partner Dependents  tenure PhoneService  \\\n",
       "0  7590-VHVEG  Female              0     Yes         No       1           No   \n",
       "1  5575-GNVDE    Male              0      No         No      34          Yes   \n",
       "2  3668-QPYBK    Male              0      No         No       2          Yes   \n",
       "3  7795-CFOCW    Male              0      No         No      45           No   \n",
       "4  9237-HQITU  Female              0      No         No       2          Yes   \n",
       "\n",
       "      MultipleLines InternetService OnlineSecurity  ... DeviceProtection  \\\n",
       "0  No phone service             DSL             No  ...               No   \n",
       "1                No             DSL            Yes  ...              Yes   \n",
       "2                No             DSL            Yes  ...               No   \n",
       "3  No phone service             DSL            Yes  ...              Yes   \n",
       "4                No     Fiber optic             No  ...               No   \n",
       "\n",
       "  TechSupport StreamingTV StreamingMovies        Contract PaperlessBilling  \\\n",
       "0          No          No              No  Month-to-month              Yes   \n",
       "1          No          No              No        One year               No   \n",
       "2          No          No              No  Month-to-month              Yes   \n",
       "3         Yes          No              No        One year               No   \n",
       "4          No          No              No  Month-to-month              Yes   \n",
       "\n",
       "               PaymentMethod MonthlyCharges  TotalCharges Churn  \n",
       "0           Electronic check          29.85         29.85    No  \n",
       "1               Mailed check          56.95        1889.5    No  \n",
       "2               Mailed check          53.85        108.15   Yes  \n",
       "3  Bank transfer (automatic)          42.30       1840.75    No  \n",
       "4           Electronic check          70.70        151.65   Yes  \n",
       "\n",
       "[5 rows x 21 columns]"
      ]
     },
     "execution_count": 2,
     "metadata": {},
     "output_type": "execute_result"
    }
   ],
   "source": [
    "df = pd.read_csv('WA_Fn-UseC_-Telco-Customer-Churn.csv')\n",
    "df.head(5)"
   ]
  },
  {
   "cell_type": "markdown",
   "id": "9b6d2b6d",
   "metadata": {},
   "source": [
    "## 1. Data Understanding\n",
    "\n",
    "### 1.1. General Information and Missing Values"
   ]
  },
  {
   "cell_type": "code",
   "execution_count": 60,
   "id": "011f399b",
   "metadata": {
    "id": "011f399b",
    "outputId": "d47f4ebc-b6ee-4b2c-fd83-dabf79005d34"
   },
   "outputs": [
    {
     "name": "stdout",
     "output_type": "stream",
     "text": [
      "<class 'pandas.core.frame.DataFrame'>\n",
      "RangeIndex: 7043 entries, 0 to 7042\n",
      "Data columns (total 21 columns):\n",
      " #   Column            Non-Null Count  Dtype  \n",
      "---  ------            --------------  -----  \n",
      " 0   customerID        7043 non-null   object \n",
      " 1   gender            7043 non-null   object \n",
      " 2   SeniorCitizen     7043 non-null   int64  \n",
      " 3   Partner           7043 non-null   object \n",
      " 4   Dependents        7043 non-null   object \n",
      " 5   tenure            7043 non-null   int64  \n",
      " 6   PhoneService      7043 non-null   object \n",
      " 7   MultipleLines     7043 non-null   object \n",
      " 8   InternetService   7043 non-null   object \n",
      " 9   OnlineSecurity    7043 non-null   object \n",
      " 10  OnlineBackup      7043 non-null   object \n",
      " 11  DeviceProtection  7043 non-null   object \n",
      " 12  TechSupport       7043 non-null   object \n",
      " 13  StreamingTV       7043 non-null   object \n",
      " 14  StreamingMovies   7043 non-null   object \n",
      " 15  Contract          7043 non-null   object \n",
      " 16  PaperlessBilling  7043 non-null   object \n",
      " 17  PaymentMethod     7043 non-null   object \n",
      " 18  MonthlyCharges    7043 non-null   float64\n",
      " 19  TotalCharges      7043 non-null   object \n",
      " 20  Churn             7043 non-null   object \n",
      "dtypes: float64(1), int64(2), object(18)\n",
      "memory usage: 1.1+ MB\n"
     ]
    }
   ],
   "source": [
    "#show data type and null values in each column\n",
    "df.info()"
   ]
  },
  {
   "cell_type": "markdown",
   "id": "12f9eed8",
   "metadata": {},
   "source": [
    "#### Observation:\n",
    "\n",
    "* There is no null data in every column\n",
    "* Each column has been in appropiate data type, except TotalCharges\n",
    "* TotalCharges should be a numerical data type"
   ]
  },
  {
   "cell_type": "code",
   "execution_count": 3,
   "id": "9970911b",
   "metadata": {},
   "outputs": [],
   "source": [
    "#convert totalcharges column from object to numerical\n",
    "df.drop(df[df['TotalCharges'].str.contains(' ')].index, inplace=True)\n",
    "df['TotalCharges'] = pd.to_numeric(df['TotalCharges'])"
   ]
  },
  {
   "cell_type": "markdown",
   "id": "ef05eef6",
   "metadata": {},
   "source": [
    "### 1.2. Statistical Summary and Univariate Analysis"
   ]
  },
  {
   "cell_type": "code",
   "execution_count": 4,
   "id": "fa511310",
   "metadata": {},
   "outputs": [
    {
     "data": {
      "text/plain": [
       "(['customerID',\n",
       "  'gender',\n",
       "  'Partner',\n",
       "  'Dependents',\n",
       "  'PhoneService',\n",
       "  'MultipleLines',\n",
       "  'InternetService',\n",
       "  'OnlineSecurity',\n",
       "  'OnlineBackup',\n",
       "  'DeviceProtection',\n",
       "  'TechSupport',\n",
       "  'StreamingTV',\n",
       "  'StreamingMovies',\n",
       "  'Contract',\n",
       "  'PaperlessBilling',\n",
       "  'PaymentMethod',\n",
       "  'Churn'],\n",
       " ['SeniorCitizen', 'tenure', 'MonthlyCharges', 'TotalCharges'])"
      ]
     },
     "execution_count": 4,
     "metadata": {},
     "output_type": "execute_result"
    }
   ],
   "source": [
    "#divide column into numerical and categorical\n",
    "numerical = []\n",
    "categorical = []\n",
    "\n",
    "for column in df.columns:\n",
    "    if df[column].dtypes == 'object':\n",
    "        categorical.append(column)\n",
    "    elif (df[column].dtypes == 'float64') or (df[column].dtypes == 'int64'):\n",
    "        numerical.append(column)\n",
    "\n",
    "categorical, numerical"
   ]
  },
  {
   "cell_type": "markdown",
   "id": "9e00462d",
   "metadata": {},
   "source": [
    "### 1.2.1. Numerical Columns"
   ]
  },
  {
   "cell_type": "code",
   "execution_count": 5,
   "id": "cc55bd67",
   "metadata": {},
   "outputs": [
    {
     "data": {
      "text/html": [
       "<div>\n",
       "<style scoped>\n",
       "    .dataframe tbody tr th:only-of-type {\n",
       "        vertical-align: middle;\n",
       "    }\n",
       "\n",
       "    .dataframe tbody tr th {\n",
       "        vertical-align: top;\n",
       "    }\n",
       "\n",
       "    .dataframe thead th {\n",
       "        text-align: right;\n",
       "    }\n",
       "</style>\n",
       "<table border=\"1\" class=\"dataframe\">\n",
       "  <thead>\n",
       "    <tr style=\"text-align: right;\">\n",
       "      <th></th>\n",
       "      <th>SeniorCitizen</th>\n",
       "      <th>tenure</th>\n",
       "      <th>MonthlyCharges</th>\n",
       "      <th>TotalCharges</th>\n",
       "    </tr>\n",
       "  </thead>\n",
       "  <tbody>\n",
       "    <tr>\n",
       "      <th>count</th>\n",
       "      <td>7032.000000</td>\n",
       "      <td>7032.000000</td>\n",
       "      <td>7032.000000</td>\n",
       "      <td>7032.000000</td>\n",
       "    </tr>\n",
       "    <tr>\n",
       "      <th>mean</th>\n",
       "      <td>0.162400</td>\n",
       "      <td>32.421786</td>\n",
       "      <td>64.798208</td>\n",
       "      <td>2283.300441</td>\n",
       "    </tr>\n",
       "    <tr>\n",
       "      <th>std</th>\n",
       "      <td>0.368844</td>\n",
       "      <td>24.545260</td>\n",
       "      <td>30.085974</td>\n",
       "      <td>2266.771362</td>\n",
       "    </tr>\n",
       "    <tr>\n",
       "      <th>min</th>\n",
       "      <td>0.000000</td>\n",
       "      <td>1.000000</td>\n",
       "      <td>18.250000</td>\n",
       "      <td>18.800000</td>\n",
       "    </tr>\n",
       "    <tr>\n",
       "      <th>25%</th>\n",
       "      <td>0.000000</td>\n",
       "      <td>9.000000</td>\n",
       "      <td>35.587500</td>\n",
       "      <td>401.450000</td>\n",
       "    </tr>\n",
       "    <tr>\n",
       "      <th>50%</th>\n",
       "      <td>0.000000</td>\n",
       "      <td>29.000000</td>\n",
       "      <td>70.350000</td>\n",
       "      <td>1397.475000</td>\n",
       "    </tr>\n",
       "    <tr>\n",
       "      <th>75%</th>\n",
       "      <td>0.000000</td>\n",
       "      <td>55.000000</td>\n",
       "      <td>89.862500</td>\n",
       "      <td>3794.737500</td>\n",
       "    </tr>\n",
       "    <tr>\n",
       "      <th>max</th>\n",
       "      <td>1.000000</td>\n",
       "      <td>72.000000</td>\n",
       "      <td>118.750000</td>\n",
       "      <td>8684.800000</td>\n",
       "    </tr>\n",
       "  </tbody>\n",
       "</table>\n",
       "</div>"
      ],
      "text/plain": [
       "       SeniorCitizen       tenure  MonthlyCharges  TotalCharges\n",
       "count    7032.000000  7032.000000     7032.000000   7032.000000\n",
       "mean        0.162400    32.421786       64.798208   2283.300441\n",
       "std         0.368844    24.545260       30.085974   2266.771362\n",
       "min         0.000000     1.000000       18.250000     18.800000\n",
       "25%         0.000000     9.000000       35.587500    401.450000\n",
       "50%         0.000000    29.000000       70.350000   1397.475000\n",
       "75%         0.000000    55.000000       89.862500   3794.737500\n",
       "max         1.000000    72.000000      118.750000   8684.800000"
      ]
     },
     "execution_count": 5,
     "metadata": {},
     "output_type": "execute_result"
    }
   ],
   "source": [
    "#statistical summary for numerical column\n",
    "df[numerical].describe()"
   ]
  },
  {
   "cell_type": "markdown",
   "id": "bdfa81b3",
   "metadata": {},
   "source": [
    "#### Observation:\n",
    "\n",
    "* SeniorCitizen is binary column, where 1 shows senior citizen and 0 shows senior citizen.\n",
    "* tenure ranges between 1 month until 72 months or 6 years, with average of 32 months and median 29 months or around 2 years and 5-8 months. The difference between median and mean is quite small, may slightly right skewed (not symmetrical).\n",
    "* MonthlyCharges ranges between 18.25 until 18.75 or around 100 dollars. The difference between median and mean shows that the distribution is not symmetrical or slightly left skewed.\n",
    "* TotalCharges ranges between 18.8 until 8684.8, such a huge difference. It may differ based on the tenure length of each customer. The distribution is also not symmetrical."
   ]
  },
  {
   "cell_type": "code",
   "execution_count": 6,
   "id": "f89a5886",
   "metadata": {},
   "outputs": [
    {
     "data": {
      "image/png": "[encoded data removed]",
      "text/plain": [
       "<Figure size 864x288 with 4 Axes>"
      ]
     },
     "metadata": {
      "needs_background": "light"
     },
     "output_type": "display_data"
    }
   ],
   "source": [
    "#plot boxplot to detect outliers\n",
    "plt.figure(figsize=(12, 4))\n",
    "\n",
    "for i in range(len(numerical)):\n",
    "    plt.subplot(1, len(numerical), i+1)\n",
    "    sns.boxplot(y=df[numerical[i]], palette='rocket')\n",
    "    plt.tight_layout()"
   ]
  },
  {
   "cell_type": "markdown",
   "id": "acfeef60",
   "metadata": {},
   "source": [
    "#### Observation:\n",
    "\n",
    "* Since SeniorCitizen is binary valued column, we do not need to handle the outlier. There is much smaller senior customers than non senior customers\n",
    "* There is no outliers in other columns"
   ]
  },
  {
   "cell_type": "code",
   "execution_count": 10,
   "id": "64bd0230",
   "metadata": {},
   "outputs": [
    {
     "data": {
      "image/png": "[encoded data removed]",
      "text/plain": [
       "<Figure size 864x216 with 4 Axes>"
      ]
     },
     "metadata": {
      "needs_background": "light"
     },
     "output_type": "display_data"
    }
   ],
   "source": [
    "#draw kde plot to see each column distribution\n",
    "plt.figure(figsize=(12, 3))\n",
    "\n",
    "for i in range(len(numerical)):\n",
    "    plt.subplot(1, len(numerical), i+1)\n",
    "    sns.distplot(x=df[numerical[i]], color='darkorchid')\n",
    "    plt.xlabel(numerical[i])\n",
    "    plt.tight_layout()"
   ]
  },
  {
   "cell_type": "markdown",
   "id": "b64361df",
   "metadata": {},
   "source": [
    "#### Observation:\n",
    "\n",
    "* There are much more non senior customers than senior customers\n",
    "* There are more customers who has shorter tenure. Seems there are two groups of customer based on tenure, new customers and loyal customer who has been in Telco for more than 3 years.\n",
    "* There are many customers with lower Monthly Charges. There are 3 groups of customer: low MonthlyCharges around 20 dollar, mid (around 50 dollars), and the last higher (around 100 dollars).\n",
    "* There are much more customers with lower TotalCharges. It corresponds to more customers with lower MonthlyCharges."
   ]
  },
  {
   "cell_type": "markdown",
   "id": "37090ad6",
   "metadata": {},
   "source": [
    "### 1.2.2. Categorical Columns"
   ]
  },
  {
   "cell_type": "code",
   "execution_count": 11,
   "id": "0ca342ac",
   "metadata": {
    "scrolled": true
   },
   "outputs": [
    {
     "data": {
      "text/html": [
       "<div>\n",
       "<style scoped>\n",
       "    .dataframe tbody tr th:only-of-type {\n",
       "        vertical-align: middle;\n",
       "    }\n",
       "\n",
       "    .dataframe tbody tr th {\n",
       "        vertical-align: top;\n",
       "    }\n",
       "\n",
       "    .dataframe thead th {\n",
       "        text-align: right;\n",
       "    }\n",
       "</style>\n",
       "<table border=\"1\" class=\"dataframe\">\n",
       "  <thead>\n",
       "    <tr style=\"text-align: right;\">\n",
       "      <th></th>\n",
       "      <th>customerID</th>\n",
       "      <th>gender</th>\n",
       "      <th>Partner</th>\n",
       "      <th>Dependents</th>\n",
       "      <th>PhoneService</th>\n",
       "      <th>MultipleLines</th>\n",
       "      <th>InternetService</th>\n",
       "      <th>OnlineSecurity</th>\n",
       "      <th>OnlineBackup</th>\n",
       "      <th>DeviceProtection</th>\n",
       "      <th>TechSupport</th>\n",
       "      <th>StreamingTV</th>\n",
       "      <th>StreamingMovies</th>\n",
       "      <th>Contract</th>\n",
       "      <th>PaperlessBilling</th>\n",
       "      <th>PaymentMethod</th>\n",
       "      <th>Churn</th>\n",
       "    </tr>\n",
       "  </thead>\n",
       "  <tbody>\n",
       "    <tr>\n",
       "      <th>count</th>\n",
       "      <td>7032</td>\n",
       "      <td>7032</td>\n",
       "      <td>7032</td>\n",
       "      <td>7032</td>\n",
       "      <td>7032</td>\n",
       "      <td>7032</td>\n",
       "      <td>7032</td>\n",
       "      <td>7032</td>\n",
       "      <td>7032</td>\n",
       "      <td>7032</td>\n",
       "      <td>7032</td>\n",
       "      <td>7032</td>\n",
       "      <td>7032</td>\n",
       "      <td>7032</td>\n",
       "      <td>7032</td>\n",
       "      <td>7032</td>\n",
       "      <td>7032</td>\n",
       "    </tr>\n",
       "    <tr>\n",
       "      <th>unique</th>\n",
       "      <td>7032</td>\n",
       "      <td>2</td>\n",
       "      <td>2</td>\n",
       "      <td>2</td>\n",
       "      <td>2</td>\n",
       "      <td>3</td>\n",
       "      <td>3</td>\n",
       "      <td>3</td>\n",
       "      <td>3</td>\n",
       "      <td>3</td>\n",
       "      <td>3</td>\n",
       "      <td>3</td>\n",
       "      <td>3</td>\n",
       "      <td>3</td>\n",
       "      <td>2</td>\n",
       "      <td>4</td>\n",
       "      <td>2</td>\n",
       "    </tr>\n",
       "    <tr>\n",
       "      <th>top</th>\n",
       "      <td>7590-VHVEG</td>\n",
       "      <td>Male</td>\n",
       "      <td>No</td>\n",
       "      <td>No</td>\n",
       "      <td>Yes</td>\n",
       "      <td>No</td>\n",
       "      <td>Fiber optic</td>\n",
       "      <td>No</td>\n",
       "      <td>No</td>\n",
       "      <td>No</td>\n",
       "      <td>No</td>\n",
       "      <td>No</td>\n",
       "      <td>No</td>\n",
       "      <td>Month-to-month</td>\n",
       "      <td>Yes</td>\n",
       "      <td>Electronic check</td>\n",
       "      <td>No</td>\n",
       "    </tr>\n",
       "    <tr>\n",
       "      <th>freq</th>\n",
       "      <td>1</td>\n",
       "      <td>3549</td>\n",
       "      <td>3639</td>\n",
       "      <td>4933</td>\n",
       "      <td>6352</td>\n",
       "      <td>3385</td>\n",
       "      <td>3096</td>\n",
       "      <td>3497</td>\n",
       "      <td>3087</td>\n",
       "      <td>3094</td>\n",
       "      <td>3472</td>\n",
       "      <td>2809</td>\n",
       "      <td>2781</td>\n",
       "      <td>3875</td>\n",
       "      <td>4168</td>\n",
       "      <td>2365</td>\n",
       "      <td>5163</td>\n",
       "    </tr>\n",
       "  </tbody>\n",
       "</table>\n",
       "</div>"
      ],
      "text/plain": [
       "        customerID gender Partner Dependents PhoneService MultipleLines  \\\n",
       "count         7032   7032    7032       7032         7032          7032   \n",
       "unique        7032      2       2          2            2             3   \n",
       "top     7590-VHVEG   Male      No         No          Yes            No   \n",
       "freq             1   3549    3639       4933         6352          3385   \n",
       "\n",
       "       InternetService OnlineSecurity OnlineBackup DeviceProtection  \\\n",
       "count             7032           7032         7032             7032   \n",
       "unique               3              3            3                3   \n",
       "top        Fiber optic             No           No               No   \n",
       "freq              3096           3497         3087             3094   \n",
       "\n",
       "       TechSupport StreamingTV StreamingMovies        Contract  \\\n",
       "count         7032        7032            7032            7032   \n",
       "unique           3           3               3               3   \n",
       "top             No          No              No  Month-to-month   \n",
       "freq          3472        2809            2781            3875   \n",
       "\n",
       "       PaperlessBilling     PaymentMethod Churn  \n",
       "count              7032              7032  7032  \n",
       "unique                2                 4     2  \n",
       "top                 Yes  Electronic check    No  \n",
       "freq               4168              2365  5163  "
      ]
     },
     "execution_count": 11,
     "metadata": {},
     "output_type": "execute_result"
    }
   ],
   "source": [
    "df[categorical].describe()"
   ]
  },
  {
   "cell_type": "code",
   "execution_count": 12,
   "id": "e7a20826",
   "metadata": {},
   "outputs": [
    {
     "name": "stdout",
     "output_type": "stream",
     "text": [
      "value counts for customerID column :\n",
      " 7590-VHVEG    1\n",
      "0265-PSUAE    1\n",
      "2956-GGUCQ    1\n",
      "6008-NAIXK    1\n",
      "5956-YHHRX    1\n",
      "             ..\n",
      "7874-ECPQJ    1\n",
      "9796-MVYXX    1\n",
      "2637-FKFSY    1\n",
      "1552-AAGRX    1\n",
      "3186-AJIEK    1\n",
      "Name: customerID, Length: 7032, dtype: int64 \n",
      "\n",
      "value counts for gender column :\n",
      " Male      3549\n",
      "Female    3483\n",
      "Name: gender, dtype: int64 \n",
      "\n",
      "value counts for Partner column :\n",
      " No     3639\n",
      "Yes    3393\n",
      "Name: Partner, dtype: int64 \n",
      "\n",
      "value counts for Dependents column :\n",
      " No     4933\n",
      "Yes    2099\n",
      "Name: Dependents, dtype: int64 \n",
      "\n",
      "value counts for PhoneService column :\n",
      " Yes    6352\n",
      "No      680\n",
      "Name: PhoneService, dtype: int64 \n",
      "\n",
      "value counts for MultipleLines column :\n",
      " No                  3385\n",
      "Yes                 2967\n",
      "No phone service     680\n",
      "Name: MultipleLines, dtype: int64 \n",
      "\n",
      "value counts for InternetService column :\n",
      " Fiber optic    3096\n",
      "DSL            2416\n",
      "No             1520\n",
      "Name: InternetService, dtype: int64 \n",
      "\n",
      "value counts for OnlineSecurity column :\n",
      " No                     3497\n",
      "Yes                    2015\n",
      "No internet service    1520\n",
      "Name: OnlineSecurity, dtype: int64 \n",
      "\n",
      "value counts for OnlineBackup column :\n",
      " No                     3087\n",
      "Yes                    2425\n",
      "No internet service    1520\n",
      "Name: OnlineBackup, dtype: int64 \n",
      "\n",
      "value counts for DeviceProtection column :\n",
      " No                     3094\n",
      "Yes                    2418\n",
      "No internet service    1520\n",
      "Name: DeviceProtection, dtype: int64 \n",
      "\n",
      "value counts for TechSupport column :\n",
      " No                     3472\n",
      "Yes                    2040\n",
      "No internet service    1520\n",
      "Name: TechSupport, dtype: int64 \n",
      "\n",
      "value counts for StreamingTV column :\n",
      " No                     2809\n",
      "Yes                    2703\n",
      "No internet service    1520\n",
      "Name: StreamingTV, dtype: int64 \n",
      "\n",
      "value counts for StreamingMovies column :\n",
      " No                     2781\n",
      "Yes                    2731\n",
      "No internet service    1520\n",
      "Name: StreamingMovies, dtype: int64 \n",
      "\n",
      "value counts for Contract column :\n",
      " Month-to-month    3875\n",
      "Two year          1685\n",
      "One year          1472\n",
      "Name: Contract, dtype: int64 \n",
      "\n",
      "value counts for PaperlessBilling column :\n",
      " Yes    4168\n",
      "No     2864\n",
      "Name: PaperlessBilling, dtype: int64 \n",
      "\n",
      "value counts for PaymentMethod column :\n",
      " Electronic check             2365\n",
      "Mailed check                 1604\n",
      "Bank transfer (automatic)    1542\n",
      "Credit card (automatic)      1521\n",
      "Name: PaymentMethod, dtype: int64 \n",
      "\n",
      "value counts for Churn column :\n",
      " No     5163\n",
      "Yes    1869\n",
      "Name: Churn, dtype: int64 \n",
      "\n"
     ]
    }
   ],
   "source": [
    "#show value counts for categorical column\n",
    "for column in categorical:\n",
    "    print(f'value counts for {column} column :\\n', df[column].value_counts(), '\\n')"
   ]
  },
  {
   "cell_type": "markdown",
   "id": "0712d791",
   "metadata": {},
   "source": [
    "#### Observation:\n",
    "\n",
    "* Columns like Partner, Dependents, PhoneService, Paperless Billing and Churn have binary value, apparantly Yes or No.\n",
    "* The other columns have 3 different values."
   ]
  },
  {
   "cell_type": "code",
   "execution_count": 13,
   "id": "64337b4b",
   "metadata": {},
   "outputs": [],
   "source": [
    "#drop customerID column\n",
    "categorical.remove('customerID')"
   ]
  },
  {
   "cell_type": "code",
   "execution_count": 14,
   "id": "70463f37",
   "metadata": {
    "scrolled": true
   },
   "outputs": [
    {
     "data": {
      "image/png": "[encoded data removed]",
      "text/plain": [
       "<Figure size 1008x1440 with 16 Axes>"
      ]
     },
     "metadata": {
      "needs_background": "light"
     },
     "output_type": "display_data"
    }
   ],
   "source": [
    "#draw countplot for categorical columns to show the frequency of different value in each column\n",
    "\n",
    "#countplot\n",
    "plt.figure(figsize=(14, 20))\n",
    "for i in range(len(categorical)):\n",
    "    plt.subplot(len(categorical)//3, 4, i+1)\n",
    "    ax = sns.countplot(x=df[categorical[i]], hue=df['Churn'], palette='rocket')\n",
    "    plt.xticks(rotation=15, ha='right')\n",
    "    plt.xlabel(categorical[i])\n",
    "    plt.bar_label(ax.containers[0])\n",
    "    plt.bar_label(ax.containers[1])\n",
    "    plt.tight_layout()"
   ]
  },
  {
   "cell_type": "markdown",
   "id": "443c65a5",
   "metadata": {},
   "source": [
    "### 1.3. Duplicated Values"
   ]
  },
  {
   "cell_type": "code",
   "execution_count": 15,
   "id": "ec4e71a8",
   "metadata": {},
   "outputs": [
    {
     "data": {
      "text/plain": [
       "0"
      ]
     },
     "execution_count": 15,
     "metadata": {},
     "output_type": "execute_result"
    }
   ],
   "source": [
    "#check duplicated values\n",
    "df.duplicated().sum()"
   ]
  },
  {
   "cell_type": "markdown",
   "id": "3705e52a",
   "metadata": {
    "id": "3705e52a"
   },
   "source": [
    "## 2. Data Preprocessing"
   ]
  },
  {
   "cell_type": "code",
   "execution_count": 16,
   "id": "4a039a02",
   "metadata": {},
   "outputs": [
    {
     "data": {
      "text/html": [
       "<div>\n",
       "<style scoped>\n",
       "    .dataframe tbody tr th:only-of-type {\n",
       "        vertical-align: middle;\n",
       "    }\n",
       "\n",
       "    .dataframe tbody tr th {\n",
       "        vertical-align: top;\n",
       "    }\n",
       "\n",
       "    .dataframe thead th {\n",
       "        text-align: right;\n",
       "    }\n",
       "</style>\n",
       "<table border=\"1\" class=\"dataframe\">\n",
       "  <thead>\n",
       "    <tr style=\"text-align: right;\">\n",
       "      <th></th>\n",
       "      <th>customerID</th>\n",
       "      <th>gender</th>\n",
       "      <th>SeniorCitizen</th>\n",
       "      <th>Partner</th>\n",
       "      <th>Dependents</th>\n",
       "      <th>tenure</th>\n",
       "      <th>PhoneService</th>\n",
       "      <th>MultipleLines</th>\n",
       "      <th>InternetService</th>\n",
       "      <th>OnlineSecurity</th>\n",
       "      <th>...</th>\n",
       "      <th>DeviceProtection</th>\n",
       "      <th>TechSupport</th>\n",
       "      <th>StreamingTV</th>\n",
       "      <th>StreamingMovies</th>\n",
       "      <th>Contract</th>\n",
       "      <th>PaperlessBilling</th>\n",
       "      <th>PaymentMethod</th>\n",
       "      <th>MonthlyCharges</th>\n",
       "      <th>TotalCharges</th>\n",
       "      <th>Churn</th>\n",
       "    </tr>\n",
       "  </thead>\n",
       "  <tbody>\n",
       "    <tr>\n",
       "      <th>0</th>\n",
       "      <td>7590-VHVEG</td>\n",
       "      <td>Female</td>\n",
       "      <td>0</td>\n",
       "      <td>Yes</td>\n",
       "      <td>No</td>\n",
       "      <td>1</td>\n",
       "      <td>No</td>\n",
       "      <td>No phone service</td>\n",
       "      <td>DSL</td>\n",
       "      <td>No</td>\n",
       "      <td>...</td>\n",
       "      <td>No</td>\n",
       "      <td>No</td>\n",
       "      <td>No</td>\n",
       "      <td>No</td>\n",
       "      <td>Month-to-month</td>\n",
       "      <td>Yes</td>\n",
       "      <td>Electronic check</td>\n",
       "      <td>29.85</td>\n",
       "      <td>29.85</td>\n",
       "      <td>No</td>\n",
       "    </tr>\n",
       "    <tr>\n",
       "      <th>1</th>\n",
       "      <td>5575-GNVDE</td>\n",
       "      <td>Male</td>\n",
       "      <td>0</td>\n",
       "      <td>No</td>\n",
       "      <td>No</td>\n",
       "      <td>34</td>\n",
       "      <td>Yes</td>\n",
       "      <td>No</td>\n",
       "      <td>DSL</td>\n",
       "      <td>Yes</td>\n",
       "      <td>...</td>\n",
       "      <td>Yes</td>\n",
       "      <td>No</td>\n",
       "      <td>No</td>\n",
       "      <td>No</td>\n",
       "      <td>One year</td>\n",
       "      <td>No</td>\n",
       "      <td>Mailed check</td>\n",
       "      <td>56.95</td>\n",
       "      <td>1889.50</td>\n",
       "      <td>No</td>\n",
       "    </tr>\n",
       "    <tr>\n",
       "      <th>2</th>\n",
       "      <td>3668-QPYBK</td>\n",
       "      <td>Male</td>\n",
       "      <td>0</td>\n",
       "      <td>No</td>\n",
       "      <td>No</td>\n",
       "      <td>2</td>\n",
       "      <td>Yes</td>\n",
       "      <td>No</td>\n",
       "      <td>DSL</td>\n",
       "      <td>Yes</td>\n",
       "      <td>...</td>\n",
       "      <td>No</td>\n",
       "      <td>No</td>\n",
       "      <td>No</td>\n",
       "      <td>No</td>\n",
       "      <td>Month-to-month</td>\n",
       "      <td>Yes</td>\n",
       "      <td>Mailed check</td>\n",
       "      <td>53.85</td>\n",
       "      <td>108.15</td>\n",
       "      <td>Yes</td>\n",
       "    </tr>\n",
       "    <tr>\n",
       "      <th>3</th>\n",
       "      <td>7795-CFOCW</td>\n",
       "      <td>Male</td>\n",
       "      <td>0</td>\n",
       "      <td>No</td>\n",
       "      <td>No</td>\n",
       "      <td>45</td>\n",
       "      <td>No</td>\n",
       "      <td>No phone service</td>\n",
       "      <td>DSL</td>\n",
       "      <td>Yes</td>\n",
       "      <td>...</td>\n",
       "      <td>Yes</td>\n",
       "      <td>Yes</td>\n",
       "      <td>No</td>\n",
       "      <td>No</td>\n",
       "      <td>One year</td>\n",
       "      <td>No</td>\n",
       "      <td>Bank transfer (automatic)</td>\n",
       "      <td>42.30</td>\n",
       "      <td>1840.75</td>\n",
       "      <td>No</td>\n",
       "    </tr>\n",
       "    <tr>\n",
       "      <th>4</th>\n",
       "      <td>9237-HQITU</td>\n",
       "      <td>Female</td>\n",
       "      <td>0</td>\n",
       "      <td>No</td>\n",
       "      <td>No</td>\n",
       "      <td>2</td>\n",
       "      <td>Yes</td>\n",
       "      <td>No</td>\n",
       "      <td>Fiber optic</td>\n",
       "      <td>No</td>\n",
       "      <td>...</td>\n",
       "      <td>No</td>\n",
       "      <td>No</td>\n",
       "      <td>No</td>\n",
       "      <td>No</td>\n",
       "      <td>Month-to-month</td>\n",
       "      <td>Yes</td>\n",
       "      <td>Electronic check</td>\n",
       "      <td>70.70</td>\n",
       "      <td>151.65</td>\n",
       "      <td>Yes</td>\n",
       "    </tr>\n",
       "  </tbody>\n",
       "</table>\n",
       "<p>5 rows × 21 columns</p>\n",
       "</div>"
      ],
      "text/plain": [
       "   customerID  gender  SeniorCitizen Partner Dependents  tenure PhoneService  \\\n",
       "0  7590-VHVEG  Female              0     Yes         No       1           No   \n",
       "1  5575-GNVDE    Male              0      No         No      34          Yes   \n",
       "2  3668-QPYBK    Male              0      No         No       2          Yes   \n",
       "3  7795-CFOCW    Male              0      No         No      45           No   \n",
       "4  9237-HQITU  Female              0      No         No       2          Yes   \n",
       "\n",
       "      MultipleLines InternetService OnlineSecurity  ... DeviceProtection  \\\n",
       "0  No phone service             DSL             No  ...               No   \n",
       "1                No             DSL            Yes  ...              Yes   \n",
       "2                No             DSL            Yes  ...               No   \n",
       "3  No phone service             DSL            Yes  ...              Yes   \n",
       "4                No     Fiber optic             No  ...               No   \n",
       "\n",
       "  TechSupport StreamingTV StreamingMovies        Contract PaperlessBilling  \\\n",
       "0          No          No              No  Month-to-month              Yes   \n",
       "1          No          No              No        One year               No   \n",
       "2          No          No              No  Month-to-month              Yes   \n",
       "3         Yes          No              No        One year               No   \n",
       "4          No          No              No  Month-to-month              Yes   \n",
       "\n",
       "               PaymentMethod MonthlyCharges  TotalCharges  Churn  \n",
       "0           Electronic check          29.85         29.85     No  \n",
       "1               Mailed check          56.95       1889.50     No  \n",
       "2               Mailed check          53.85        108.15    Yes  \n",
       "3  Bank transfer (automatic)          42.30       1840.75     No  \n",
       "4           Electronic check          70.70        151.65    Yes  \n",
       "\n",
       "[5 rows x 21 columns]"
      ]
     },
     "execution_count": 16,
     "metadata": {},
     "output_type": "execute_result"
    }
   ],
   "source": [
    "#copy data into another dataframe for modelling\n",
    "data = df.copy()\n",
    "data.head()"
   ]
  },
  {
   "cell_type": "markdown",
   "id": "f5de298e",
   "metadata": {},
   "source": [
    "### 2.1. Label Encoding\n",
    "\n",
    "This encoding is used for columns that has binary value"
   ]
  },
  {
   "cell_type": "code",
   "execution_count": 17,
   "id": "1bef9ff8",
   "metadata": {
    "id": "1bef9ff8",
    "scrolled": false
   },
   "outputs": [
    {
     "data": {
      "text/html": [
       "<div>\n",
       "<style scoped>\n",
       "    .dataframe tbody tr th:only-of-type {\n",
       "        vertical-align: middle;\n",
       "    }\n",
       "\n",
       "    .dataframe tbody tr th {\n",
       "        vertical-align: top;\n",
       "    }\n",
       "\n",
       "    .dataframe thead th {\n",
       "        text-align: right;\n",
       "    }\n",
       "</style>\n",
       "<table border=\"1\" class=\"dataframe\">\n",
       "  <thead>\n",
       "    <tr style=\"text-align: right;\">\n",
       "      <th></th>\n",
       "      <th>customerID</th>\n",
       "      <th>gender</th>\n",
       "      <th>SeniorCitizen</th>\n",
       "      <th>Partner</th>\n",
       "      <th>Dependents</th>\n",
       "      <th>tenure</th>\n",
       "      <th>PhoneService</th>\n",
       "      <th>MultipleLines</th>\n",
       "      <th>InternetService</th>\n",
       "      <th>OnlineSecurity</th>\n",
       "      <th>...</th>\n",
       "      <th>DeviceProtection</th>\n",
       "      <th>TechSupport</th>\n",
       "      <th>StreamingTV</th>\n",
       "      <th>StreamingMovies</th>\n",
       "      <th>Contract</th>\n",
       "      <th>PaperlessBilling</th>\n",
       "      <th>PaymentMethod</th>\n",
       "      <th>MonthlyCharges</th>\n",
       "      <th>TotalCharges</th>\n",
       "      <th>Churn</th>\n",
       "    </tr>\n",
       "  </thead>\n",
       "  <tbody>\n",
       "    <tr>\n",
       "      <th>0</th>\n",
       "      <td>7590-VHVEG</td>\n",
       "      <td>Female</td>\n",
       "      <td>0</td>\n",
       "      <td>1</td>\n",
       "      <td>0</td>\n",
       "      <td>1</td>\n",
       "      <td>0</td>\n",
       "      <td>No phone service</td>\n",
       "      <td>DSL</td>\n",
       "      <td>No</td>\n",
       "      <td>...</td>\n",
       "      <td>No</td>\n",
       "      <td>No</td>\n",
       "      <td>No</td>\n",
       "      <td>No</td>\n",
       "      <td>Month-to-month</td>\n",
       "      <td>1</td>\n",
       "      <td>Electronic check</td>\n",
       "      <td>29.85</td>\n",
       "      <td>29.85</td>\n",
       "      <td>0</td>\n",
       "    </tr>\n",
       "    <tr>\n",
       "      <th>1</th>\n",
       "      <td>5575-GNVDE</td>\n",
       "      <td>Male</td>\n",
       "      <td>0</td>\n",
       "      <td>0</td>\n",
       "      <td>0</td>\n",
       "      <td>34</td>\n",
       "      <td>1</td>\n",
       "      <td>No</td>\n",
       "      <td>DSL</td>\n",
       "      <td>Yes</td>\n",
       "      <td>...</td>\n",
       "      <td>Yes</td>\n",
       "      <td>No</td>\n",
       "      <td>No</td>\n",
       "      <td>No</td>\n",
       "      <td>One year</td>\n",
       "      <td>0</td>\n",
       "      <td>Mailed check</td>\n",
       "      <td>56.95</td>\n",
       "      <td>1889.50</td>\n",
       "      <td>0</td>\n",
       "    </tr>\n",
       "    <tr>\n",
       "      <th>2</th>\n",
       "      <td>3668-QPYBK</td>\n",
       "      <td>Male</td>\n",
       "      <td>0</td>\n",
       "      <td>0</td>\n",
       "      <td>0</td>\n",
       "      <td>2</td>\n",
       "      <td>1</td>\n",
       "      <td>No</td>\n",
       "      <td>DSL</td>\n",
       "      <td>Yes</td>\n",
       "      <td>...</td>\n",
       "      <td>No</td>\n",
       "      <td>No</td>\n",
       "      <td>No</td>\n",
       "      <td>No</td>\n",
       "      <td>Month-to-month</td>\n",
       "      <td>1</td>\n",
       "      <td>Mailed check</td>\n",
       "      <td>53.85</td>\n",
       "      <td>108.15</td>\n",
       "      <td>1</td>\n",
       "    </tr>\n",
       "    <tr>\n",
       "      <th>3</th>\n",
       "      <td>7795-CFOCW</td>\n",
       "      <td>Male</td>\n",
       "      <td>0</td>\n",
       "      <td>0</td>\n",
       "      <td>0</td>\n",
       "      <td>45</td>\n",
       "      <td>0</td>\n",
       "      <td>No phone service</td>\n",
       "      <td>DSL</td>\n",
       "      <td>Yes</td>\n",
       "      <td>...</td>\n",
       "      <td>Yes</td>\n",
       "      <td>Yes</td>\n",
       "      <td>No</td>\n",
       "      <td>No</td>\n",
       "      <td>One year</td>\n",
       "      <td>0</td>\n",
       "      <td>Bank transfer (automatic)</td>\n",
       "      <td>42.30</td>\n",
       "      <td>1840.75</td>\n",
       "      <td>0</td>\n",
       "    </tr>\n",
       "    <tr>\n",
       "      <th>4</th>\n",
       "      <td>9237-HQITU</td>\n",
       "      <td>Female</td>\n",
       "      <td>0</td>\n",
       "      <td>0</td>\n",
       "      <td>0</td>\n",
       "      <td>2</td>\n",
       "      <td>1</td>\n",
       "      <td>No</td>\n",
       "      <td>Fiber optic</td>\n",
       "      <td>No</td>\n",
       "      <td>...</td>\n",
       "      <td>No</td>\n",
       "      <td>No</td>\n",
       "      <td>No</td>\n",
       "      <td>No</td>\n",
       "      <td>Month-to-month</td>\n",
       "      <td>1</td>\n",
       "      <td>Electronic check</td>\n",
       "      <td>70.70</td>\n",
       "      <td>151.65</td>\n",
       "      <td>1</td>\n",
       "    </tr>\n",
       "  </tbody>\n",
       "</table>\n",
       "<p>5 rows × 21 columns</p>\n",
       "</div>"
      ],
      "text/plain": [
       "   customerID  gender  SeniorCitizen  Partner  Dependents  tenure  \\\n",
       "0  7590-VHVEG  Female              0        1           0       1   \n",
       "1  5575-GNVDE    Male              0        0           0      34   \n",
       "2  3668-QPYBK    Male              0        0           0       2   \n",
       "3  7795-CFOCW    Male              0        0           0      45   \n",
       "4  9237-HQITU  Female              0        0           0       2   \n",
       "\n",
       "   PhoneService     MultipleLines InternetService OnlineSecurity  ...  \\\n",
       "0             0  No phone service             DSL             No  ...   \n",
       "1             1                No             DSL            Yes  ...   \n",
       "2             1                No             DSL            Yes  ...   \n",
       "3             0  No phone service             DSL            Yes  ...   \n",
       "4             1                No     Fiber optic             No  ...   \n",
       "\n",
       "  DeviceProtection TechSupport StreamingTV StreamingMovies        Contract  \\\n",
       "0               No          No          No              No  Month-to-month   \n",
       "1              Yes          No          No              No        One year   \n",
       "2               No          No          No              No  Month-to-month   \n",
       "3              Yes         Yes          No              No        One year   \n",
       "4               No          No          No              No  Month-to-month   \n",
       "\n",
       "  PaperlessBilling              PaymentMethod MonthlyCharges  TotalCharges  \\\n",
       "0                1           Electronic check          29.85         29.85   \n",
       "1                0               Mailed check          56.95       1889.50   \n",
       "2                1               Mailed check          53.85        108.15   \n",
       "3                0  Bank transfer (automatic)          42.30       1840.75   \n",
       "4                1           Electronic check          70.70        151.65   \n",
       "\n",
       "   Churn  \n",
       "0      0  \n",
       "1      0  \n",
       "2      1  \n",
       "3      0  \n",
       "4      1  \n",
       "\n",
       "[5 rows x 21 columns]"
      ]
     },
     "execution_count": 17,
     "metadata": {},
     "output_type": "execute_result"
    }
   ],
   "source": [
    "#label encoding for column that has binary value\n",
    "column1 = ['Partner', 'Dependents', 'PhoneService', 'PaperlessBilling', 'Churn']\n",
    "map_class = {'Yes':1, 'No':0}\n",
    "\n",
    "for column in column1:\n",
    "    data[column] = data[column].map(map_class)\n",
    "\n",
    "data.head()"
   ]
  },
  {
   "cell_type": "markdown",
   "id": "f89a1a03",
   "metadata": {},
   "source": [
    "### 2.2. Frequency Encoding\n",
    "\n",
    "This encoding is used for other categorical columns. This encoding currently perform the best for this modelling."
   ]
  },
  {
   "cell_type": "code",
   "execution_count": 18,
   "id": "244b8d57",
   "metadata": {},
   "outputs": [
    {
     "data": {
      "text/html": [
       "<div>\n",
       "<style scoped>\n",
       "    .dataframe tbody tr th:only-of-type {\n",
       "        vertical-align: middle;\n",
       "    }\n",
       "\n",
       "    .dataframe tbody tr th {\n",
       "        vertical-align: top;\n",
       "    }\n",
       "\n",
       "    .dataframe thead th {\n",
       "        text-align: right;\n",
       "    }\n",
       "</style>\n",
       "<table border=\"1\" class=\"dataframe\">\n",
       "  <thead>\n",
       "    <tr style=\"text-align: right;\">\n",
       "      <th></th>\n",
       "      <th>customerID</th>\n",
       "      <th>gender</th>\n",
       "      <th>SeniorCitizen</th>\n",
       "      <th>Partner</th>\n",
       "      <th>Dependents</th>\n",
       "      <th>tenure</th>\n",
       "      <th>PhoneService</th>\n",
       "      <th>MultipleLines</th>\n",
       "      <th>InternetService</th>\n",
       "      <th>OnlineSecurity</th>\n",
       "      <th>...</th>\n",
       "      <th>pct_freq_MultipleLines</th>\n",
       "      <th>pct_freq_InternetService</th>\n",
       "      <th>pct_freq_OnlineSecurity</th>\n",
       "      <th>pct_freq_OnlineBackup</th>\n",
       "      <th>pct_freq_DeviceProtection</th>\n",
       "      <th>pct_freq_TechSupport</th>\n",
       "      <th>pct_freq_StreamingTV</th>\n",
       "      <th>pct_freq_StreamingMovies</th>\n",
       "      <th>pct_freq_Contract</th>\n",
       "      <th>pct_freq_PaymentMethod</th>\n",
       "    </tr>\n",
       "  </thead>\n",
       "  <tbody>\n",
       "    <tr>\n",
       "      <th>0</th>\n",
       "      <td>7590-VHVEG</td>\n",
       "      <td>Female</td>\n",
       "      <td>0</td>\n",
       "      <td>1</td>\n",
       "      <td>0</td>\n",
       "      <td>1</td>\n",
       "      <td>0</td>\n",
       "      <td>No phone service</td>\n",
       "      <td>DSL</td>\n",
       "      <td>No</td>\n",
       "      <td>...</td>\n",
       "      <td>9.67</td>\n",
       "      <td>34.36</td>\n",
       "      <td>49.73</td>\n",
       "      <td>34.49</td>\n",
       "      <td>44.0</td>\n",
       "      <td>49.37</td>\n",
       "      <td>39.95</td>\n",
       "      <td>39.55</td>\n",
       "      <td>55.11</td>\n",
       "      <td>33.63</td>\n",
       "    </tr>\n",
       "    <tr>\n",
       "      <th>1</th>\n",
       "      <td>6235-VDHOM</td>\n",
       "      <td>Female</td>\n",
       "      <td>1</td>\n",
       "      <td>0</td>\n",
       "      <td>0</td>\n",
       "      <td>5</td>\n",
       "      <td>0</td>\n",
       "      <td>No phone service</td>\n",
       "      <td>DSL</td>\n",
       "      <td>No</td>\n",
       "      <td>...</td>\n",
       "      <td>9.67</td>\n",
       "      <td>34.36</td>\n",
       "      <td>49.73</td>\n",
       "      <td>34.49</td>\n",
       "      <td>44.0</td>\n",
       "      <td>49.37</td>\n",
       "      <td>39.95</td>\n",
       "      <td>39.55</td>\n",
       "      <td>55.11</td>\n",
       "      <td>33.63</td>\n",
       "    </tr>\n",
       "    <tr>\n",
       "      <th>2</th>\n",
       "      <td>0811-GSDTP</td>\n",
       "      <td>Female</td>\n",
       "      <td>0</td>\n",
       "      <td>0</td>\n",
       "      <td>1</td>\n",
       "      <td>13</td>\n",
       "      <td>0</td>\n",
       "      <td>No phone service</td>\n",
       "      <td>DSL</td>\n",
       "      <td>No</td>\n",
       "      <td>...</td>\n",
       "      <td>9.67</td>\n",
       "      <td>34.36</td>\n",
       "      <td>49.73</td>\n",
       "      <td>34.49</td>\n",
       "      <td>44.0</td>\n",
       "      <td>49.37</td>\n",
       "      <td>39.95</td>\n",
       "      <td>39.55</td>\n",
       "      <td>55.11</td>\n",
       "      <td>33.63</td>\n",
       "    </tr>\n",
       "    <tr>\n",
       "      <th>3</th>\n",
       "      <td>6637-KYRCV</td>\n",
       "      <td>Female</td>\n",
       "      <td>0</td>\n",
       "      <td>1</td>\n",
       "      <td>1</td>\n",
       "      <td>5</td>\n",
       "      <td>0</td>\n",
       "      <td>No phone service</td>\n",
       "      <td>DSL</td>\n",
       "      <td>No</td>\n",
       "      <td>...</td>\n",
       "      <td>9.67</td>\n",
       "      <td>34.36</td>\n",
       "      <td>49.73</td>\n",
       "      <td>34.49</td>\n",
       "      <td>44.0</td>\n",
       "      <td>49.37</td>\n",
       "      <td>39.95</td>\n",
       "      <td>39.55</td>\n",
       "      <td>55.11</td>\n",
       "      <td>33.63</td>\n",
       "    </tr>\n",
       "    <tr>\n",
       "      <th>4</th>\n",
       "      <td>1432-FPAXX</td>\n",
       "      <td>Female</td>\n",
       "      <td>0</td>\n",
       "      <td>0</td>\n",
       "      <td>0</td>\n",
       "      <td>29</td>\n",
       "      <td>0</td>\n",
       "      <td>No phone service</td>\n",
       "      <td>DSL</td>\n",
       "      <td>No</td>\n",
       "      <td>...</td>\n",
       "      <td>9.67</td>\n",
       "      <td>34.36</td>\n",
       "      <td>49.73</td>\n",
       "      <td>34.49</td>\n",
       "      <td>44.0</td>\n",
       "      <td>49.37</td>\n",
       "      <td>39.95</td>\n",
       "      <td>39.55</td>\n",
       "      <td>55.11</td>\n",
       "      <td>33.63</td>\n",
       "    </tr>\n",
       "  </tbody>\n",
       "</table>\n",
       "<p>5 rows × 32 columns</p>\n",
       "</div>"
      ],
      "text/plain": [
       "   customerID  gender  SeniorCitizen  Partner  Dependents  tenure  \\\n",
       "0  7590-VHVEG  Female              0        1           0       1   \n",
       "1  6235-VDHOM  Female              1        0           0       5   \n",
       "2  0811-GSDTP  Female              0        0           1      13   \n",
       "3  6637-KYRCV  Female              0        1           1       5   \n",
       "4  1432-FPAXX  Female              0        0           0      29   \n",
       "\n",
       "   PhoneService     MultipleLines InternetService OnlineSecurity  ...  \\\n",
       "0             0  No phone service             DSL             No  ...   \n",
       "1             0  No phone service             DSL             No  ...   \n",
       "2             0  No phone service             DSL             No  ...   \n",
       "3             0  No phone service             DSL             No  ...   \n",
       "4             0  No phone service             DSL             No  ...   \n",
       "\n",
       "  pct_freq_MultipleLines pct_freq_InternetService pct_freq_OnlineSecurity  \\\n",
       "0                   9.67                    34.36                   49.73   \n",
       "1                   9.67                    34.36                   49.73   \n",
       "2                   9.67                    34.36                   49.73   \n",
       "3                   9.67                    34.36                   49.73   \n",
       "4                   9.67                    34.36                   49.73   \n",
       "\n",
       "  pct_freq_OnlineBackup pct_freq_DeviceProtection pct_freq_TechSupport  \\\n",
       "0                 34.49                      44.0                49.37   \n",
       "1                 34.49                      44.0                49.37   \n",
       "2                 34.49                      44.0                49.37   \n",
       "3                 34.49                      44.0                49.37   \n",
       "4                 34.49                      44.0                49.37   \n",
       "\n",
       "   pct_freq_StreamingTV pct_freq_StreamingMovies  pct_freq_Contract  \\\n",
       "0                 39.95                    39.55              55.11   \n",
       "1                 39.95                    39.55              55.11   \n",
       "2                 39.95                    39.55              55.11   \n",
       "3                 39.95                    39.55              55.11   \n",
       "4                 39.95                    39.55              55.11   \n",
       "\n",
       "   pct_freq_PaymentMethod  \n",
       "0                   33.63  \n",
       "1                   33.63  \n",
       "2                   33.63  \n",
       "3                   33.63  \n",
       "4                   33.63  \n",
       "\n",
       "[5 rows x 32 columns]"
      ]
     },
     "execution_count": 18,
     "metadata": {},
     "output_type": "execute_result"
    }
   ],
   "source": [
    "#frequency encoding for other categorical column\n",
    "column2 = ['gender', 'MultipleLines', 'InternetService', 'OnlineSecurity', 'OnlineBackup', 'DeviceProtection', \n",
    "           'TechSupport', 'StreamingTV', 'StreamingMovies', 'Contract', 'PaymentMethod']\n",
    "\n",
    "for column in column2:\n",
    "    freq_et = data[column].value_counts().reset_index()\n",
    "    freq_et.rename(columns = {'index': column, column: f'freq_{column}'}, inplace=True)\n",
    "    freq_et[f'pct_freq_{column}'] = round(freq_et[f'freq_{column}']/freq_et[f'freq_{column}'].sum()*100, 2)\n",
    "    data = data.merge(freq_et[[column, f'pct_freq_{column}']], on=column, how='inner')\n",
    "    \n",
    "data.head()"
   ]
  },
  {
   "cell_type": "code",
   "execution_count": 19,
   "id": "a5b34a59",
   "metadata": {},
   "outputs": [],
   "source": [
    "#drop the encoded column\n",
    "data = data.drop(columns = ['gender', 'MultipleLines', 'InternetService', 'OnlineSecurity', 'OnlineBackup', 'DeviceProtection', \n",
    "           'TechSupport', 'StreamingTV', 'StreamingMovies', 'Contract', 'PaymentMethod'])"
   ]
  },
  {
   "cell_type": "code",
   "execution_count": 20,
   "id": "d5f7d70c",
   "metadata": {},
   "outputs": [],
   "source": [
    "#drop customerID column\n",
    "data = data.drop(columns = ['customerID'])"
   ]
  },
  {
   "cell_type": "code",
   "execution_count": 80,
   "id": "648cee9a",
   "metadata": {
    "scrolled": true
   },
   "outputs": [
    {
     "name": "stdout",
     "output_type": "stream",
     "text": [
      "<class 'pandas.core.frame.DataFrame'>\n",
      "Int64Index: 7032 entries, 0 to 7031\n",
      "Data columns (total 20 columns):\n",
      " #   Column                     Non-Null Count  Dtype  \n",
      "---  ------                     --------------  -----  \n",
      " 0   SeniorCitizen              7032 non-null   int64  \n",
      " 1   Partner                    7032 non-null   int64  \n",
      " 2   Dependents                 7032 non-null   int64  \n",
      " 3   tenure                     7032 non-null   int64  \n",
      " 4   PhoneService               7032 non-null   int64  \n",
      " 5   PaperlessBilling           7032 non-null   int64  \n",
      " 6   MonthlyCharges             7032 non-null   float64\n",
      " 7   TotalCharges               7032 non-null   float64\n",
      " 8   Churn                      7032 non-null   int64  \n",
      " 9   pct_freq_gender            7032 non-null   float64\n",
      " 10  pct_freq_MultipleLines     7032 non-null   float64\n",
      " 11  pct_freq_InternetService   7032 non-null   float64\n",
      " 12  pct_freq_OnlineSecurity    7032 non-null   float64\n",
      " 13  pct_freq_OnlineBackup      7032 non-null   float64\n",
      " 14  pct_freq_DeviceProtection  7032 non-null   float64\n",
      " 15  pct_freq_TechSupport       7032 non-null   float64\n",
      " 16  pct_freq_StreamingTV       7032 non-null   float64\n",
      " 17  pct_freq_StreamingMovies   7032 non-null   float64\n",
      " 18  pct_freq_Contract          7032 non-null   float64\n",
      " 19  pct_freq_PaymentMethod     7032 non-null   float64\n",
      "dtypes: float64(13), int64(7)\n",
      "memory usage: 1.1 MB\n"
     ]
    }
   ],
   "source": [
    "data.info()"
   ]
  },
  {
   "cell_type": "code",
   "execution_count": 21,
   "id": "4e06bb92",
   "metadata": {},
   "outputs": [
    {
     "data": {
      "text/plain": [
       "No     5163\n",
       "Yes    1869\n",
       "Name: Churn, dtype: int64"
      ]
     },
     "execution_count": 21,
     "metadata": {},
     "output_type": "execute_result"
    }
   ],
   "source": [
    "#check if data is balanced\n",
    "df['Churn'].value_counts()"
   ]
  },
  {
   "cell_type": "markdown",
   "id": "43644a71",
   "metadata": {},
   "source": [
    "The data is imbalance, so we need to handle it first before split it into train and test data."
   ]
  },
  {
   "cell_type": "markdown",
   "id": "d09733d4",
   "metadata": {},
   "source": [
    "### 2.3. Handle Imbalanced Data\n",
    "\n",
    "We can handle imbalanced data by undersampling or oversampling. Oversampling is when the data from the fewer class (here is the churned customer) is added to adjust the class distribution of a data set."
   ]
  },
  {
   "cell_type": "code",
   "execution_count": 22,
   "id": "6c280bbd",
   "metadata": {},
   "outputs": [],
   "source": [
    "from imblearn import over_sampling\n",
    "\n",
    "feature = data.drop(columns='Churn')\n",
    "target = data[['Churn']]\n",
    "\n",
    "# Overampling with smote\n",
    "X_over_smote, y_over_smote = over_sampling.SMOTE(random_state=42).fit_resample(feature, target)"
   ]
  },
  {
   "cell_type": "code",
   "execution_count": 23,
   "id": "031ab80c",
   "metadata": {},
   "outputs": [
    {
     "name": "stdout",
     "output_type": "stream",
     "text": [
      "Shape of X before SMOTE: (7032, 19)\n",
      "Shape of X after SMOTE: (10326, 19)\n",
      "\n",
      "Balance of positive and negative classes (%):\n"
     ]
    },
    {
     "data": {
      "text/plain": [
       "Churn\n",
       "0        50.0\n",
       "1        50.0\n",
       "dtype: float64"
      ]
     },
     "execution_count": 23,
     "metadata": {},
     "output_type": "execute_result"
    }
   ],
   "source": [
    "#show data after oversampling\n",
    "\n",
    "print(f'''Shape of X before SMOTE: {feature.shape}\n",
    "Shape of X after SMOTE: {X_over_smote.shape}''')\n",
    "\n",
    "print('\\nBalance of positive and negative classes (%):')\n",
    "y_over_smote.value_counts(normalize=True) * 100\n"
   ]
  },
  {
   "cell_type": "markdown",
   "id": "bb8f08cb",
   "metadata": {},
   "source": [
    "### 2.4. Split Data into Train-Test"
   ]
  },
  {
   "cell_type": "code",
   "execution_count": 33,
   "id": "14ce45a5",
   "metadata": {},
   "outputs": [],
   "source": [
    "#Split data into train and test\n",
    "from sklearn.model_selection import train_test_split\n",
    "\n",
    "feature = data.drop(columns='Churn')\n",
    "target = data[['Churn']]\n",
    "\n",
    "#split data to pretrain-test\n",
    "feature_data_train, feature_data_test, target_data_train, target_data_test = train_test_split(\n",
    "    X_over_smote, y_over_smote, test_size = 0.30, random_state = 42)"
   ]
  },
  {
   "cell_type": "markdown",
   "id": "46735eff",
   "metadata": {
    "id": "46735eff"
   },
   "source": [
    "## 3. Modelling "
   ]
  },
  {
   "cell_type": "markdown",
   "id": "6c911daf",
   "metadata": {
    "id": "6c911daf"
   },
   "source": [
    "There are 4 classification of algorithms that we use here: Logistic Regression, Decision Tree, Random Forest, and K-Nearest Neighbour. Later, we will evaluate which algorithm is the best."
   ]
  },
  {
   "cell_type": "markdown",
   "id": "865b1dc5",
   "metadata": {},
   "source": [
    "### 3.1. Logistic Regression"
   ]
  },
  {
   "cell_type": "code",
   "execution_count": 34,
   "id": "4304e5de",
   "metadata": {
    "id": "4304e5de"
   },
   "outputs": [
    {
     "data": {
      "text/plain": [
       "LogisticRegression(random_state=42)"
      ]
     },
     "execution_count": 34,
     "metadata": {},
     "output_type": "execute_result"
    }
   ],
   "source": [
    "#Logistic Regresion\n",
    "from sklearn.linear_model import LogisticRegression\n",
    "\n",
    "# train the model\n",
    "X_train = feature_data_train.to_numpy()\n",
    "y_train = target_data_train.to_numpy()\n",
    "y_train = y_train.reshape(len(y_train),)\n",
    "\n",
    "# define the model\n",
    "logreg = LogisticRegression(random_state=42)\n",
    "\n",
    "#fit the model\n",
    "logreg.fit(X_train, y_train)"
   ]
  },
  {
   "cell_type": "markdown",
   "id": "d666a2de",
   "metadata": {},
   "source": [
    "### 3.2. Decision Tree"
   ]
  },
  {
   "cell_type": "code",
   "execution_count": 37,
   "id": "0254199c",
   "metadata": {},
   "outputs": [
    {
     "data": {
      "text/plain": [
       "DecisionTreeClassifier(random_state=67)"
      ]
     },
     "execution_count": 37,
     "metadata": {},
     "output_type": "execute_result"
    }
   ],
   "source": [
    "#Decision Tree\n",
    "from sklearn.tree import DecisionTreeClassifier \n",
    "\n",
    "# train the model\n",
    "X_train = feature_data_train.to_numpy()\n",
    "y_train = target_data_train.to_numpy()\n",
    "y_train = y_train.reshape(len(y_train),)\n",
    "\n",
    "# define the model\n",
    "dt = DecisionTreeClassifier(random_state=67)\n",
    "\n",
    "#fit the model\n",
    "dt.fit(X_train, y_train)"
   ]
  },
  {
   "cell_type": "markdown",
   "id": "735932fe",
   "metadata": {},
   "source": [
    "### 3.3. Random Forest"
   ]
  },
  {
   "cell_type": "code",
   "execution_count": 40,
   "id": "42fa68d5",
   "metadata": {},
   "outputs": [
    {
     "data": {
      "text/plain": [
       "RandomForestClassifier(random_state=42)"
      ]
     },
     "execution_count": 40,
     "metadata": {},
     "output_type": "execute_result"
    }
   ],
   "source": [
    "#Random Forest\n",
    "from sklearn.ensemble import RandomForestClassifier\n",
    "\n",
    "# train the model\n",
    "X_train = feature_data_train.to_numpy()\n",
    "y_train = target_data_train.to_numpy()\n",
    "y_train = y_train.reshape(len(y_train),)\n",
    "\n",
    "# define the model\n",
    "rf = RandomForestClassifier(random_state=42)\n",
    "\n",
    "#fit the model\n",
    "rf.fit(X_train, y_train)"
   ]
  },
  {
   "cell_type": "markdown",
   "id": "3287803f",
   "metadata": {},
   "source": [
    "### 3.4. K-Nearest Neighbour"
   ]
  },
  {
   "cell_type": "markdown",
   "id": "29d63af7",
   "metadata": {},
   "source": [
    "#### Find the best K"
   ]
  },
  {
   "cell_type": "code",
   "execution_count": 49,
   "id": "74715bfe",
   "metadata": {
    "scrolled": true
   },
   "outputs": [
    {
     "name": "stdout",
     "output_type": "stream",
     "text": [
      "[0.9983397897066962, 0.9467349197565025, 0.8876591034864416, 0.8799114554510238, 0.8505810736026563, 0.8497509684560044, 0.8280298837852794, 0.8252628666297731, 0.811289429994466, 0.8121195351411179, 0.8060320973990038, 0.8072772551189817, 0.7959324847814057, 0.7967625899280576, 0.7919203099059214, 0.7913669064748201, 0.7874930824571112, 0.7888765910348644, 0.7833425567238517]\n"
     ]
    },
    {
     "data": {
      "text/plain": [
       "<AxesSubplot:>"
      ]
     },
     "execution_count": 49,
     "metadata": {},
     "output_type": "execute_result"
    },
    {
     "data": {
      "image/png": "[encoded data removed]",
      "text/plain": [
       "<Figure size 864x432 with 1 Axes>"
      ]
     },
     "metadata": {
      "needs_background": "light"
     },
     "output_type": "display_data"
    }
   ],
   "source": [
    "from sklearn.neighbors import KNeighborsClassifier\n",
    "\n",
    "# train the model\n",
    "X_train = feature_data_train.to_numpy()\n",
    "y_train = target_data_train.to_numpy()\n",
    "y_train = y_train.reshape(len(y_train),)\n",
    "\n",
    "list_acc_score = []\n",
    "for i in range(1,20):\n",
    "    knn = KNeighborsClassifier(n_neighbors=i)\n",
    "    knn.fit(X_train, y_train)\n",
    "    y_predict_train = knn.predict(X_train)\n",
    "    list_acc_score.append(accuracy_score(y_train, y_predict_train))\n",
    "\n",
    "print(list_acc_score)\n",
    "\n",
    "plt.figure(figsize=(12, 6))\n",
    "sns.lineplot(x=range(1, 20), y=list_acc_score, color='orange')\n",
    "sns.scatterplot(x=range(1, 20), y=list_acc_score, s=300, color='orange')"
   ]
  },
  {
   "cell_type": "markdown",
   "id": "7e51833b",
   "metadata": {},
   "source": [
    "K = 1 is the best, possibly because the boundary between this target value is clear."
   ]
  },
  {
   "cell_type": "markdown",
   "id": "c4abba9f",
   "metadata": {
    "id": "c4abba9f"
   },
   "source": [
    "## 4. Evaluation"
   ]
  },
  {
   "cell_type": "markdown",
   "id": "fbd1f78a",
   "metadata": {},
   "source": [
    "### 4.1. Logistic Regression"
   ]
  },
  {
   "cell_type": "code",
   "execution_count": 50,
   "id": "d707fe7b",
   "metadata": {
    "id": "d707fe7b"
   },
   "outputs": [
    {
     "name": "stdout",
     "output_type": "stream",
     "text": [
      "Accuracy Score for Training Data is 0.7722744881018262\n",
      "Precision Score for Training Data is 0.7602614379084968\n",
      "Recall Score for Training Data is 0.7995600769865273\n",
      "F1 Score for Training Data is 0.7794157062449745\n",
      "ROC AUC Score for Training Data is 0.7720997266024255\n"
     ]
    },
    {
     "data": {
      "text/plain": [
       "<AxesSubplot:>"
      ]
     },
     "execution_count": 50,
     "metadata": {},
     "output_type": "execute_result"
    },
    {
     "data": {
      "image/png": "[encoded data removed]",
      "text/plain": [
       "<Figure size 432x288 with 2 Axes>"
      ]
     },
     "metadata": {
      "needs_background": "light"
     },
     "output_type": "display_data"
    }
   ],
   "source": [
    "#Training Model\n",
    "y_predict_train = logreg.predict(X_train)\n",
    "\n",
    "print('Accuracy Score for Training Data is {}'.format(accuracy_score(y_train, y_predict_train)))\n",
    "print('Precision Score for Training Data is {}'.format(precision_score(y_train, y_predict_train)))\n",
    "print('Recall Score for Training Data is {}'.format(recall_score(y_train, y_predict_train)))\n",
    "print('F1 Score for Training Data is {}'.format(f1_score(y_train, y_predict_train)))\n",
    "print('ROC AUC Score for Training Data is {}'.format(roc_auc_score(y_train, y_predict_train)))\n",
    "\n",
    "cf_matrix = confusion_matrix(y_train, y_predict_train)\n",
    "\n",
    "group_names = ['True Neg', 'False Pos', 'False Neg', 'True Pos']\n",
    "group_counts = [\"{0:0.0f}\".format(value) for value in cf_matrix.flatten()]\n",
    "group_percentages = [\"{0:.2%}\".format(value) for value in cf_matrix.flatten()/np.sum(cf_matrix)]\n",
    "labels = [f\"{v1}\\n{v2}\\n{v3}\" for v1, v2, v3 in zip(group_names,group_counts,group_percentages)]\n",
    "labels = np.asarray(labels).reshape(2,2)\n",
    "sns.heatmap(cf_matrix, annot=labels, fmt='', cmap='Blues')"
   ]
  },
  {
   "cell_type": "code",
   "execution_count": 51,
   "id": "ee97d45e",
   "metadata": {
    "scrolled": true
   },
   "outputs": [
    {
     "name": "stdout",
     "output_type": "stream",
     "text": [
      "Accuracy Score for Testing Data is 0.7711426726920594\n",
      "Precision Score for Testing Data is 0.74802671523983\n",
      "Recall Score for Testing Data is 0.8073394495412844\n",
      "F1 Score for Testing Data is 0.7765521588402143\n",
      "ROC AUC Score for Testing Data is 0.7716722692999042\n"
     ]
    },
    {
     "data": {
      "text/plain": [
       "<AxesSubplot:>"
      ]
     },
     "execution_count": 51,
     "metadata": {},
     "output_type": "execute_result"
    },
    {
     "data": {
      "image/png": "[encoded data removed]",
      "text/plain": [
       "<Figure size 432x288 with 2 Axes>"
      ]
     },
     "metadata": {
      "needs_background": "light"
     },
     "output_type": "display_data"
    }
   ],
   "source": [
    "#Testing Model\n",
    "\n",
    "# prepare prediction result on test data\n",
    "X_test = feature_data_test.to_numpy()\n",
    "y_predict_test = logreg.predict(X_test)\n",
    "\n",
    "# ground truth target\n",
    "y_test = target_data_test.to_numpy()\n",
    "y_test = y_test.reshape(len(y_test),)\n",
    "\n",
    "print('Accuracy Score for Testing Data is {}'.format(accuracy_score(y_test, y_predict_test)))\n",
    "print('Precision Score for Testing Data is {}'.format(precision_score(y_test, y_predict_test)))\n",
    "print('Recall Score for Testing Data is {}'.format(recall_score(y_test, y_predict_test)))\n",
    "print('F1 Score for Testing Data is {}'.format(f1_score(y_test, y_predict_test)))\n",
    "print('ROC AUC Score for Testing Data is {}'.format(roc_auc_score(y_test, y_predict_test)))\n",
    "\n",
    "cf_matrix = confusion_matrix(y_test, y_predict_test)\n",
    "\n",
    "group_names = ['True Neg', 'False Pos', 'False Neg', 'True Pos']\n",
    "group_counts = [\"{0:0.0f}\".format(value) for value in cf_matrix.flatten()]\n",
    "group_percentages = [\"{0:.2%}\".format(value) for value in cf_matrix.flatten()/np.sum(cf_matrix)]\n",
    "labels = [f\"{v1}\\n{v2}\\n{v3}\" for v1, v2, v3 in zip(group_names,group_counts,group_percentages)]\n",
    "labels = np.asarray(labels).reshape(2,2)\n",
    "sns.heatmap(cf_matrix, annot=labels, fmt='', cmap='Blues')"
   ]
  },
  {
   "cell_type": "markdown",
   "id": "dd5a40dd",
   "metadata": {},
   "source": [
    "### 4.2. Decision Tree"
   ]
  },
  {
   "cell_type": "code",
   "execution_count": 52,
   "id": "0311991c",
   "metadata": {
    "scrolled": true
   },
   "outputs": [
    {
     "name": "stdout",
     "output_type": "stream",
     "text": [
      "Accuracy Score for Training Data is 0.9983397897066962\n",
      "Precision Score for Training Data is 0.9997242900468707\n",
      "Recall Score for Training Data is 0.9969755292823755\n",
      "F1 Score for Training Data is 0.9983480176211453\n",
      "ROC AUC Score for Training Data is 0.9983485276598456\n"
     ]
    },
    {
     "data": {
      "text/plain": [
       "<AxesSubplot:>"
      ]
     },
     "execution_count": 52,
     "metadata": {},
     "output_type": "execute_result"
    },
    {
     "data": {
      "image/png": "[encoded data removed]",
      "text/plain": [
       "<Figure size 432x288 with 2 Axes>"
      ]
     },
     "metadata": {
      "needs_background": "light"
     },
     "output_type": "display_data"
    }
   ],
   "source": [
    "#Training Model\n",
    "y_predict_train = dt.predict(X_train)\n",
    "\n",
    "print('Accuracy Score for Training Data is {}'.format(accuracy_score(y_train, y_predict_train)))\n",
    "print('Precision Score for Training Data is {}'.format(precision_score(y_train, y_predict_train)))\n",
    "print('Recall Score for Training Data is {}'.format(recall_score(y_train, y_predict_train)))\n",
    "print('F1 Score for Training Data is {}'.format(f1_score(y_train, y_predict_train)))\n",
    "print('ROC AUC Score for Training Data is {}'.format(roc_auc_score(y_train, y_predict_train)))\n",
    "\n",
    "cf_matrix = confusion_matrix(y_train, y_predict_train)\n",
    "\n",
    "group_names = ['True Neg', 'False Pos', 'False Neg', 'True Pos']\n",
    "group_counts = [\"{0:0.0f}\".format(value) for value in cf_matrix.flatten()]\n",
    "group_percentages = [\"{0:.2%}\".format(value) for value in cf_matrix.flatten()/np.sum(cf_matrix)]\n",
    "labels = [f\"{v1}\\n{v2}\\n{v3}\" for v1, v2, v3 in zip(group_names,group_counts,group_percentages)]\n",
    "labels = np.asarray(labels).reshape(2,2)\n",
    "sns.heatmap(cf_matrix, annot=labels, fmt='', cmap='Greens')"
   ]
  },
  {
   "cell_type": "code",
   "execution_count": 53,
   "id": "4ab01f8c",
   "metadata": {
    "scrolled": true
   },
   "outputs": [
    {
     "name": "stdout",
     "output_type": "stream",
     "text": [
      "Accuracy Score for Testing Data is 0.8014848289218851\n",
      "Precision Score for Testing Data is 0.7933032839665164\n",
      "Recall Score for Testing Data is 0.8073394495412844\n",
      "F1 Score for Testing Data is 0.8002598246183826\n",
      "ROC AUC Score for Testing Data is 0.8015704881294208\n"
     ]
    },
    {
     "data": {
      "text/plain": [
       "<AxesSubplot:>"
      ]
     },
     "execution_count": 53,
     "metadata": {},
     "output_type": "execute_result"
    },
    {
     "data": {
      "image/png": "[encoded data removed]",
      "text/plain": [
       "<Figure size 432x288 with 2 Axes>"
      ]
     },
     "metadata": {
      "needs_background": "light"
     },
     "output_type": "display_data"
    }
   ],
   "source": [
    "#Testing Model\n",
    "\n",
    "# prepare prediction result on test data\n",
    "X_test = feature_data_test.to_numpy()\n",
    "y_predict_test = dt.predict(X_test)\n",
    "\n",
    "# ground truth target\n",
    "y_test = target_data_test.to_numpy()\n",
    "y_test = y_test.reshape(len(y_test),)\n",
    "\n",
    "print('Accuracy Score for Testing Data is {}'.format(accuracy_score(y_test, y_predict_test)))\n",
    "print('Precision Score for Testing Data is {}'.format(precision_score(y_test, y_predict_test)))\n",
    "print('Recall Score for Testing Data is {}'.format(recall_score(y_test, y_predict_test)))\n",
    "print('F1 Score for Testing Data is {}'.format(f1_score(y_test, y_predict_test)))\n",
    "print('ROC AUC Score for Testing Data is {}'.format(roc_auc_score(y_test, y_predict_test)))\n",
    "\n",
    "cf_matrix = confusion_matrix(y_test, y_predict_test)\n",
    "\n",
    "group_names = ['True Neg', 'False Pos', 'False Neg', 'True Pos']\n",
    "group_counts = [\"{0:0.0f}\".format(value) for value in cf_matrix.flatten()]\n",
    "group_percentages = [\"{0:.2%}\".format(value) for value in cf_matrix.flatten()/np.sum(cf_matrix)]\n",
    "labels = [f\"{v1}\\n{v2}\\n{v3}\" for v1, v2, v3 in zip(group_names,group_counts,group_percentages)]\n",
    "labels = np.asarray(labels).reshape(2,2)\n",
    "sns.heatmap(cf_matrix, annot=labels, fmt='', cmap='Greens')"
   ]
  },
  {
   "cell_type": "markdown",
   "id": "2713a379",
   "metadata": {},
   "source": [
    "### 4.3. Random Forest"
   ]
  },
  {
   "cell_type": "code",
   "execution_count": 54,
   "id": "e36bd4a8",
   "metadata": {},
   "outputs": [
    {
     "name": "stdout",
     "output_type": "stream",
     "text": [
      "Accuracy Score for Training Data is 0.9983397897066962\n",
      "Precision Score for Training Data is 0.9975295086467197\n",
      "Recall Score for Training Data is 0.9991751443497388\n",
      "F1 Score for Training Data is 0.9983516483516482\n",
      "ROC AUC Score for Training Data is 0.9983344393427892\n"
     ]
    },
    {
     "data": {
      "text/plain": [
       "<AxesSubplot:>"
      ]
     },
     "execution_count": 54,
     "metadata": {},
     "output_type": "execute_result"
    },
    {
     "data": {
      "image/png": "[encoded data removed]",
      "text/plain": [
       "<Figure size 432x288 with 2 Axes>"
      ]
     },
     "metadata": {
      "needs_background": "light"
     },
     "output_type": "display_data"
    }
   ],
   "source": [
    "#Training Model\n",
    "y_predict_train = rf.predict(X_train)\n",
    "\n",
    "print('Accuracy Score for Training Data is {}'.format(accuracy_score(y_train, y_predict_train)))\n",
    "print('Precision Score for Training Data is {}'.format(precision_score(y_train, y_predict_train)))\n",
    "print('Recall Score for Training Data is {}'.format(recall_score(y_train, y_predict_train)))\n",
    "print('F1 Score for Training Data is {}'.format(f1_score(y_train, y_predict_train)))\n",
    "print('ROC AUC Score for Training Data is {}'.format(roc_auc_score(y_train, y_predict_train)))\n",
    "\n",
    "cf_matrix = confusion_matrix(y_train, y_predict_train)\n",
    "\n",
    "group_names = ['True Neg', 'False Pos', 'False Neg', 'True Pos']\n",
    "group_counts = [\"{0:0.0f}\".format(value) for value in cf_matrix.flatten()]\n",
    "group_percentages = [\"{0:.2%}\".format(value) for value in cf_matrix.flatten()/np.sum(cf_matrix)]\n",
    "labels = [f\"{v1}\\n{v2}\\n{v3}\" for v1, v2, v3 in zip(group_names,group_counts,group_percentages)]\n",
    "labels = np.asarray(labels).reshape(2,2)\n",
    "sns.heatmap(cf_matrix, annot=labels, fmt='', cmap='BuPu')"
   ]
  },
  {
   "cell_type": "code",
   "execution_count": 55,
   "id": "50225e5d",
   "metadata": {
    "scrolled": true
   },
   "outputs": [
    {
     "name": "stdout",
     "output_type": "stream",
     "text": [
      "Accuracy Score for Testing Data is 0.856036152356359\n",
      "Precision Score for Testing Data is 0.8580901856763926\n",
      "Recall Score for Testing Data is 0.8479685452162516\n",
      "F1 Score for Testing Data is 0.8529993408042189\n",
      "ROC AUC Score for Testing Data is 0.8559181148473115\n"
     ]
    },
    {
     "data": {
      "text/plain": [
       "<AxesSubplot:>"
      ]
     },
     "execution_count": 55,
     "metadata": {},
     "output_type": "execute_result"
    },
    {
     "data": {
      "image/png": "[encoded data removed]",
      "text/plain": [
       "<Figure size 432x288 with 2 Axes>"
      ]
     },
     "metadata": {
      "needs_background": "light"
     },
     "output_type": "display_data"
    }
   ],
   "source": [
    "#Testing Model\n",
    "\n",
    "# prepare prediction result on test data\n",
    "X_test = feature_data_test.to_numpy()\n",
    "y_predict_test = rf.predict(X_test)\n",
    "\n",
    "# ground truth target\n",
    "y_test = target_data_test.to_numpy()\n",
    "y_test = y_test.reshape(len(y_test),)\n",
    "\n",
    "print('Accuracy Score for Testing Data is {}'.format(accuracy_score(y_test, y_predict_test)))\n",
    "print('Precision Score for Testing Data is {}'.format(precision_score(y_test, y_predict_test)))\n",
    "print('Recall Score for Testing Data is {}'.format(recall_score(y_test, y_predict_test)))\n",
    "print('F1 Score for Testing Data is {}'.format(f1_score(y_test, y_predict_test)))\n",
    "print('ROC AUC Score for Testing Data is {}'.format(roc_auc_score(y_test, y_predict_test)))\n",
    "\n",
    "cf_matrix = confusion_matrix(y_test, y_predict_test)\n",
    "\n",
    "group_names = ['True Neg', 'False Pos', 'False Neg', 'True Pos']\n",
    "group_counts = [\"{0:0.0f}\".format(value) for value in cf_matrix.flatten()]\n",
    "group_percentages = [\"{0:.2%}\".format(value) for value in cf_matrix.flatten()/np.sum(cf_matrix)]\n",
    "labels = [f\"{v1}\\n{v2}\\n{v3}\" for v1, v2, v3 in zip(group_names,group_counts,group_percentages)]\n",
    "labels = np.asarray(labels).reshape(2,2)\n",
    "sns.heatmap(cf_matrix, annot=labels, fmt='', cmap='Blues')"
   ]
  },
  {
   "cell_type": "markdown",
   "id": "7cbaf4b3",
   "metadata": {},
   "source": [
    "### 4.4. K-Nearest Neighbour"
   ]
  },
  {
   "cell_type": "code",
   "execution_count": 56,
   "id": "5cccf114",
   "metadata": {},
   "outputs": [
    {
     "name": "stdout",
     "output_type": "stream",
     "text": [
      "Accuracy Score for Training Data is 0.9983397897066962\n",
      "Precision Score for Training Data is 0.9983502886994776\n",
      "Recall Score for Training Data is 0.9983502886994776\n",
      "F1 Score for Training Data is 0.9983502886994776\n",
      "ROC AUC Score for Training Data is 0.9983397224616852\n"
     ]
    },
    {
     "data": {
      "text/plain": [
       "<AxesSubplot:>"
      ]
     },
     "execution_count": 56,
     "metadata": {},
     "output_type": "execute_result"
    },
    {
     "data": {
      "image/png": "[encoded data removed]",
      "text/plain": [
       "<Figure size 432x288 with 2 Axes>"
      ]
     },
     "metadata": {
      "needs_background": "light"
     },
     "output_type": "display_data"
    }
   ],
   "source": [
    "#Training Model\n",
    "knn = KNeighborsClassifier(n_neighbors=1)\n",
    "knn.fit(X_train, y_train)\n",
    "y_predict_train = knn.predict(X_train)\n",
    "\n",
    "print('Accuracy Score for Training Data is {}'.format(accuracy_score(y_train, y_predict_train)))\n",
    "print('Precision Score for Training Data is {}'.format(precision_score(y_train, y_predict_train)))\n",
    "print('Recall Score for Training Data is {}'.format(recall_score(y_train, y_predict_train)))\n",
    "print('F1 Score for Training Data is {}'.format(f1_score(y_train, y_predict_train)))\n",
    "print('ROC AUC Score for Training Data is {}'.format(roc_auc_score(y_train, y_predict_train)))\n",
    "\n",
    "cf_matrix = confusion_matrix(y_train, y_predict_train)\n",
    "\n",
    "group_names = ['True Neg', 'False Pos', 'False Neg', 'True Pos']\n",
    "group_counts = [\"{0:0.0f}\".format(value) for value in cf_matrix.flatten()]\n",
    "group_percentages = [\"{0:.2%}\".format(value) for value in cf_matrix.flatten()/np.sum(cf_matrix)]\n",
    "labels = [f\"{v1}\\n{v2}\\n{v3}\" for v1, v2, v3 in zip(group_names,group_counts,group_percentages)]\n",
    "labels = np.asarray(labels).reshape(2,2)\n",
    "sns.heatmap(cf_matrix, annot=labels, fmt='', cmap='Oranges')"
   ]
  },
  {
   "cell_type": "code",
   "execution_count": 57,
   "id": "0d02f499",
   "metadata": {},
   "outputs": [
    {
     "name": "stdout",
     "output_type": "stream",
     "text": [
      "Accuracy Score for Testing Data is 0.8285990961910911\n",
      "Precision Score for Testing Data is 0.7828311540648095\n",
      "Recall Score for Testing Data is 0.9023591087811271\n",
      "F1 Score for Testing Data is 0.8383561643835618\n",
      "ROC AUC Score for Testing Data is 0.8296782821259325\n"
     ]
    },
    {
     "data": {
      "text/plain": [
       "<AxesSubplot:>"
      ]
     },
     "execution_count": 57,
     "metadata": {},
     "output_type": "execute_result"
    },
    {
     "data": {
      "image/png": "[encoded data removed]",
      "text/plain": [
       "<Figure size 432x288 with 2 Axes>"
      ]
     },
     "metadata": {
      "needs_background": "light"
     },
     "output_type": "display_data"
    }
   ],
   "source": [
    "#Testing Model\n",
    "\n",
    "# prepare prediction result on test data\n",
    "X_test = feature_data_test.to_numpy()\n",
    "y_predict_test = knn.predict(X_test)\n",
    "\n",
    "# ground truth target\n",
    "y_test = target_data_test.to_numpy()\n",
    "y_test = y_test.reshape(len(y_test),)\n",
    "\n",
    "print('Accuracy Score for Testing Data is {}'.format(accuracy_score(y_test, y_predict_test)))\n",
    "print('Precision Score for Testing Data is {}'.format(precision_score(y_test, y_predict_test)))\n",
    "print('Recall Score for Testing Data is {}'.format(recall_score(y_test, y_predict_test)))\n",
    "print('F1 Score for Testing Data is {}'.format(f1_score(y_test, y_predict_test)))\n",
    "print('ROC AUC Score for Testing Data is {}'.format(roc_auc_score(y_test, y_predict_test)))\n",
    "\n",
    "cf_matrix = confusion_matrix(y_test, y_predict_test)\n",
    "\n",
    "group_names = ['True Neg', 'False Pos', 'False Neg', 'True Pos']\n",
    "group_counts = [\"{0:0.0f}\".format(value) for value in cf_matrix.flatten()]\n",
    "group_percentages = [\"{0:.2%}\".format(value) for value in cf_matrix.flatten()/np.sum(cf_matrix)]\n",
    "labels = [f\"{v1}\\n{v2}\\n{v3}\" for v1, v2, v3 in zip(group_names,group_counts,group_percentages)]\n",
    "labels = np.asarray(labels).reshape(2,2)\n",
    "sns.heatmap(cf_matrix, annot=labels, fmt='', cmap='Oranges')"
   ]
  },
  {
   "cell_type": "markdown",
   "id": "daaa3c6e",
   "metadata": {},
   "source": [
    "## 5. Model Comparison "
   ]
  },
  {
   "cell_type": "code",
   "execution_count": 85,
   "id": "27269c7e",
   "metadata": {
    "scrolled": true
   },
   "outputs": [
    {
     "name": "stdout",
     "output_type": "stream",
     "text": [
      "Logistic Regression: 0.736712 (0.102094)\n",
      "Decision Tree: 0.718939 (0.172876)\n",
      "Random Forest: 0.816254 (0.148283)\n",
      "K-Nearest Neighbour: 0.778278 (0.113668)\n"
     ]
    },
    {
     "data": {
      "image/png": "[encoded data removed]",
      "text/plain": [
       "<Figure size 432x288 with 1 Axes>"
      ]
     },
     "metadata": {
      "needs_background": "light"
     },
     "output_type": "display_data"
    }
   ],
   "source": [
    "from sklearn import model_selection\n",
    "\n",
    "#prepare models\n",
    "models = []\n",
    "models.append(('Logistic Regression', LogisticRegression()))\n",
    "models.append(('Decision Tree', DecisionTreeClassifier()))\n",
    "models.append(('Random Forest', RandomForestClassifier()))\n",
    "models.append(('K-Nearest Neighbour', KNeighborsClassifier()))\n",
    "\n",
    "#evaluate each model in turn\n",
    "results = []\n",
    "names = []\n",
    "scoring = 'accuracy'\n",
    "\n",
    "for name, model in models:\n",
    "    kfold = model_selection.KFold(n_splits=10)\n",
    "    cv_results = model_selection.cross_val_score(model, X_over_smote, y_over_smote, cv=kfold, scoring=scoring)\n",
    "    results.append(cv_results)\n",
    "    names.append(name)\n",
    "    msg = \"%s: %f (%f)\" % (name, cv_results.mean(), cv_results.std())\n",
    "    print(msg)\n",
    "\n",
    "#boxplot algorithm comparison\n",
    "fig = plt.figure()\n",
    "fig.suptitle('Algorithm Comparison')\n",
    "ax = fig.add_subplot(111)\n",
    "plt.boxplot(results)\n",
    "ax.set_xticklabels(names)\n",
    "plt.show()"
   ]
  },
  {
   "cell_type": "markdown",
   "id": "88c210eb",
   "metadata": {},
   "source": [
    "## 6. Conclusion\n",
    "\n",
    "Dari keempat model machine learning yang digunakan, model Random Forest dan K-Nearest Neighbor mempunyai nilai akurasi yang paling tinggi dengan masing-masing 81.62% dan 77.82%. Adapun observasi masing-masing model adalah sebagai berikut:\n",
    "\n",
    "* Logistic Regression: model ini merupakan model yang paling fit antara hasil dari data training dan data testing, dengan masing-masing memberikan akurasi 77.22% dan 77.11%. Artinya model ini merupakan model yang paling sederhana dibandingkan yang lain sehingga mempunyai akurasi paling rendah saat training, namun juga yang paling konsisten.\n",
    "\n",
    "\n",
    "* Decision Tree: model ini memberikan akurasi paling tinggi pada data training, mencapai 99%. Artinya model yang dipapai sangat cocok dan akurat memprediksi target pada data training. Namun pada data testing, akurasi turun menjadi 80%, lebih rendah dibandingkan Random Forest dan K-Nearest Neighbor. Sedikit overfitting, namun pada nilai yang masih dapat diterima.\n",
    "\n",
    "\n",
    "* Random Forest: secara teori, model ini merupakan pengembangan dari Decision Tree. Akurasi pada data training memberikan hasil yang sama seperti Decision Tree, yaitu 99%. Cukup kompleks untuk mengikuti pola target. Pada data testing, akurasi turun menjadi 85%, lebih tingi dibandingkan Decision Tree yang artinya berhasil mengurangi noise tanpa mengurangi kompleksitas model. Random Forest juga memberikan nilai akurasi yang paling baik, menjadikan model yang layak digunakan selanjutnya pada dataset ini dibandingkan model lain. Random Forest memberikan hasil yang baik disebabkan model ini dapat mempertimbangkan seluruh feature yang paling berpengaruh terhadap Churn pada root, sehingga hasil yang diperoleh lebih baik dari Decision Tree.\n",
    "\n",
    "\n",
    "* K-Nearest Neighbor: model ini melibatkan perhitungan jarak, sehingga menghabiskan waktu pemodelan paling lama. Akurasi pada data training memberikan hasil yang impresif, yaitu 99% sedikit di bawah Decision Tree dan Random Forest. Pada data testing, akurasi yang dihasilkan adalah 82%, di atas Decision Tree. Artinya waktu pemodelan yang lama dan model yang lebih sederhana dibandingkan yang lain namun memberikan hasil yang cukup akurat dan bisa diandalkan. Bersama Random Forest, model KNN bisa digunakan selanjutnya pada dataset ini.  "
   ]
  }
 ],
 "metadata": {
  "colab": {
   "name": "Template HW.ipynb",
   "provenance": []
  },
  "kernelspec": {
   "display_name": "Python 3 (ipykernel)",
   "language": "python",
   "name": "python3"
  },
  "language_info": {
   "codemirror_mode": {
    "name": "ipython",
    "version": 3
   },
   "file_extension": ".py",
   "mimetype": "text/x-python",
   "name": "python",
   "nbconvert_exporter": "python",
   "pygments_lexer": "ipython3",
   "version": "3.9.12"
  },
  "toc": {
   "base_numbering": 1,
   "nav_menu": {},
   "number_sections": true,
   "sideBar": true,
   "skip_h1_title": false,
   "title_cell": "Table of Contents",
   "title_sidebar": "Contents",
   "toc_cell": false,
   "toc_position": {},
   "toc_section_display": true,
   "toc_window_display": true
  },
  "varInspector": {
   "cols": {
    "lenName": 16,
    "lenType": 16,
    "lenVar": 40
   },
   "kernels_config": {
    "python": {
     "delete_cmd_postfix": "",
     "delete_cmd_prefix": "del ",
     "library": "var_list.py",
     "varRefreshCmd": "print(var_dic_list())"
    },
    "r": {
     "delete_cmd_postfix": ") ",
     "delete_cmd_prefix": "rm(",
     "library": "var_list.r",
     "varRefreshCmd": "cat(var_dic_list()) "
    }
   },
   "types_to_exclude": [
    "module",
    "function",
    "builtin_function_or_method",
    "instance",
    "_Feature"
   ],
   "window_display": false
  }
 },
 "nbformat": 4,
 "nbformat_minor": 5
}
